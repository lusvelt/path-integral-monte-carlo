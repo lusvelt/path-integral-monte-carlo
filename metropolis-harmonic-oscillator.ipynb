{
 "cells": [
  {
   "cell_type": "code",
   "execution_count": 135,
   "metadata": {},
   "outputs": [],
   "source": [
    "import numpy as np\n",
    "from matplotlib import pyplot as plt "
   ]
  },
  {
   "cell_type": "code",
   "execution_count": 136,
   "metadata": {},
   "outputs": [],
   "source": [
    "N=20\n",
    "a=0.5\n",
    "eps=1.4\n",
    "N_cor=20\n",
    "N_cf=1000\n",
    "E_0 = 0.5\n",
    "E_1 = 1.5"
   ]
  },
  {
   "cell_type": "markdown",
   "metadata": {},
   "source": []
  },
  {
   "cell_type": "code",
   "execution_count": 137,
   "metadata": {},
   "outputs": [],
   "source": [
    "def S(j,x): # harm. osc. S\n",
    "    jp = (j+1)%N # next site\n",
    "    jm = (j-1)%N # previous site\n",
    "    return a*x[j]**2/2 + x[j]*(x[j]-x[jp]-x[jm])/a\n",
    "\n",
    "def update(x):\n",
    "    for j in range(0,N):\n",
    "        old_x = x[j] # save original value\n",
    "        old_Sj = S(j,x)\n",
    "        x[j] = x[j] + np.random.uniform(-eps,eps) # update x[j]\n",
    "        dS = S(j,x) - old_Sj # change in action\n",
    "        if dS>0 and np.exp(-dS)<np.random.uniform(0,1):\n",
    "            x[j] = old_x # restore old value"
   ]
  },
  {
   "cell_type": "code",
   "execution_count": 138,
   "metadata": {},
   "outputs": [],
   "source": [
    "def matrix_G(gamma):                            #matrix N*N_cf\n",
    "    matrix_g = np.zeros ((N_cf,N))                                      \n",
    "    x = np.zeros(N)               \n",
    "    for j in range(0,N): \n",
    "        x[j] = 0                               \n",
    "    for j in range(0,10*N_cor):                 #termalisation\n",
    "        update(x)\n",
    "    for rows in range(0,N_cf):                     \n",
    "        for j in range(0,N_cor):                #discard N_cor values\n",
    "            update(x)\n",
    "        for n in range(0,N):                    \n",
    "            matrix_g [rows][n] = gamma(x,n)     #for every time you have N_cf values of G\n",
    "    return matrix_g\n",
    "\n",
    "def average_G(matrix_g):\n",
    "    average_G = np.zeros(N)\n",
    "    for n in range (0,N):\n",
    "        for rows in range(0,N_cf):\n",
    "            average_G [n] = average_G [n] + matrix_g[rows][n]\n",
    "        average_G[n] = average_G[n]/N_cf\n",
    "    return average_G\n",
    "\n",
    "def std_G(matrix_g):\n",
    "    std_G =np.zeros(N)\n",
    "    for n in range (0,N):\n",
    "        for rows in range(0,N_cf):\n",
    "            std_G [n] = std_G [n] + (average_G[n] - matrix_g[rows][n])**2\n",
    "        std_G[n] = np.sqrt( std_G[n])\n",
    "    return std_G"
   ]
  },
  {
   "cell_type": "code",
   "execution_count": 139,
   "metadata": {},
   "outputs": [],
   "source": [
    "def compute_G(x,n):\n",
    "    g = 0\n",
    "    for j in range(0,N):        \n",
    "        g = g + x[j]*x[(j+n)%N]\n",
    "    return g/N"
   ]
  },
  {
   "cell_type": "code",
   "execution_count": 140,
   "metadata": {},
   "outputs": [],
   "source": [
    "matrix_g = matrix_G(compute_G)\n",
    "\n",
    "def delta_E(delta_E):\n",
    "    delta_E = np.zeros(N-1)\n",
    "    for n in range (0,N-1):\n",
    "        delta_E[n] = np.log(np.abs(average_G(matrix_g)[n]/average_G(matrix_g)[n+1]))\n",
    "    return delta_E\n",
    "\n",
    "def error_delta_E(error_delta_E):\n",
    "    error_delta_E = np.zeros(N-1)\n",
    "    for n in range (0,N-1):\n",
    "        error_delta_E[n] = np.sqrt(((np.std(average_G(matrix_g)) / average_G(matrix_g)[n])**2 + \n",
    "                                   (np.std(average_G(matrix_g))/ average_G(matrix_g)[n+1])**2)) #propagation of error\n",
    "    return error_delta_E"
   ]
  },
  {
   "cell_type": "code",
   "execution_count": 141,
   "metadata": {},
   "outputs": [],
   "source": [
    "def t(t):\n",
    "    t = np.zeros(N-1)\n",
    "    for n in range (0,N-1):\n",
    "        t[n]=n*a\n",
    "    return t\n",
    "\n",
    "def E_exact(E_1,E_0,E_exact):\n",
    "    E_exact = np.zeros(N-1)\n",
    "    for n in range (0, N-1):\n",
    "        E_exact[n] = a*(E_1-E_0)\n",
    "    return E_exact"
   ]
  },
  {
   "cell_type": "code",
   "execution_count": 142,
   "metadata": {},
   "outputs": [
    {
     "data": {
      "image/png": "[encoded data removed]",
      "text/plain": [
       "<Figure size 640x480 with 1 Axes>"
      ]
     },
     "metadata": {},
     "output_type": "display_data"
    }
   ],
   "source": [
    "#plt.plot(t(np.zeros(N)),  average_G(matrix_g) ,'b',label='G')\n",
    "#plt.errorbar(t(np.zeros(N)), average_G(matrix_g), yerr=std_G(matrix_g), fmt='.', color='black', label='Numerical')\n",
    "plt.plot(t(np.zeros(N-1)),  E_exact(E_1,E_0, np.zeros(N-1)) ,'b',label='Expected')\n",
    "plt.errorbar(t(np.zeros(N-1)), delta_E(np.zeros(N-1)), yerr=error_delta_E(np.zeros(N-1)), fmt='.', color='black', label='Numerical')\n",
    "plt.legend(loc='upper right')\n",
    "plt.title('Harmonic oscillator')\n",
    "plt.xlabel('t')\n",
    "plt.ylabel(r'$\\Delta E(t)$')\n",
    "plt.show()"
   ]
  }
 ],
 "metadata": {
  "kernelspec": {
   "display_name": "base",
   "language": "python",
   "name": "python3"
  },
  "language_info": {
   "codemirror_mode": {
    "name": "ipython",
    "version": 3
   },
   "file_extension": ".py",
   "mimetype": "text/x-python",
   "name": "python",
   "nbconvert_exporter": "python",
   "pygments_lexer": "ipython3",
   "version": "3.11.7"
  }
 },
 "nbformat": 4,
 "nbformat_minor": 2
}
