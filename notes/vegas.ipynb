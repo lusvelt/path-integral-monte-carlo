{
 "cells": [
  {
   "cell_type": "markdown",
   "metadata": {},
   "source": [
    "# `vegas` library"
   ]
  },
  {
   "cell_type": "markdown",
   "metadata": {},
   "source": [
    "Summary of some selected sections of `vegas` [documentation](https://vegas.readthedocs.io/en/latest/index.html)"
   ]
  },
  {
   "cell_type": "markdown",
   "metadata": {},
   "source": [
    "## Tutorial"
   ]
  },
  {
   "cell_type": "markdown",
   "metadata": {},
   "source": [
    "### Introduction"
   ]
  },
  {
   "cell_type": "markdown",
   "metadata": {},
   "source": [
    "This library provides a Monte Carlo estimate of multidimensional integrals.\n",
    "The algorithm has two components:\n",
    "- Automatic variable transformation in order to flatten the integrand\n",
    "- Monte Carlo estimate of the flattened integral\n",
    "\n",
    "The above two steps are iterated in order to optimize the variable transformation and collect information about the integrand."
   ]
  },
  {
   "cell_type": "markdown",
   "metadata": {},
   "source": [
    "There are very few assumptions about the integrand: it doesn't need to be analytical, nor continuous.\n",
    "\n",
    "The algorithm is adaptive (two strategies are used: importance sampling and adaptive stratified sampling), meaning it is able to catch irregularities in the multidimensional space."
   ]
  },
  {
   "cell_type": "markdown",
   "metadata": {},
   "source": [
    "Each Monte Carlo estimate of the integral can be considered as drawn from a Gaussian distribution where the mean is the actual value of the integral.\n",
    "\n",
    "Error analysis is straightforward, if we generate multiple Monte Carlo estimates of the integral."
   ]
  },
  {
   "cell_type": "markdown",
   "metadata": {},
   "source": [
    "###  Basic integrals"
   ]
  },
  {
   "cell_type": "markdown",
   "metadata": {},
   "source": [
    "Let's try and estimate the following integral (with $C$ chosen so that the exact integral is exactly $1$, and we can see if the estimates are correct):\n",
    "$$ C \\int_{-1}^{1} dx_0 \\int_0^1 dx_1 \\int_0^1 dx_2 \\int_0^3 dx_3 e^{-100\\sum_d (x_d - 0.5)^2} = 1$$"
   ]
  },
  {
   "cell_type": "code",
   "execution_count": 22,
   "metadata": {},
   "outputs": [
    {
     "name": "stdout",
     "output_type": "stream",
     "text": [
      "itn   integral        wgt average     chi2/dof        Q\n",
      "-------------------------------------------------------\n",
      "  1   1.15(87)        1.15(87)            0.00     1.00\n",
      "  2   1.23(42)        1.22(38)            0.01     0.93\n",
      "  3   1.09(12)        1.10(11)            0.06     0.95\n",
      "  4   1.076(59)       1.081(52)           0.05     0.99\n",
      "  5   1.018(34)       1.037(28)           0.30     0.88\n",
      "  6   1.023(24)       1.029(18)           0.26     0.93\n",
      "  7   1.015(19)       1.022(13)           0.26     0.95\n",
      "  8   0.995(14)       1.0098(97)          0.50     0.83\n",
      "  9   1.010(13)       1.0100(78)          0.44     0.90\n",
      " 10   0.990(12)       1.0039(65)          0.62     0.78\n",
      "\n",
      "result = 1.0039(65)    Q = 0.78\n"
     ]
    }
   ],
   "source": [
    "import vegas\n",
    "import math\n",
    "\n",
    "def f(x):\n",
    "    dx2 = 0\n",
    "    for d in range(4):\n",
    "        dx2 += (x[d] - 0.5) ** 2\n",
    "    return math.exp(-dx2 * 100.) * 1013.2118364296088\n",
    "\n",
    "integ = vegas.Integrator([[-1, 1], [0, 1], [0, 1], [0, 1]])\n",
    "\n",
    "result = integ(f, nitn=10, neval=1000)\n",
    "print(result.summary())\n",
    "print('result = %s    Q = %.2f' % (result, result.Q))"
   ]
  },
  {
   "cell_type": "markdown",
   "metadata": {},
   "source": [
    "- `nitn`: number of iterations of `vegas` algorithm\n",
    "- `neval`: number of evaluations of the integrand for each `vegas` iteration"
   ]
  },
  {
   "cell_type": "markdown",
   "metadata": {},
   "source": [
    "Let's make some observations about the above result"
   ]
  },
  {
   "cell_type": "markdown",
   "metadata": {},
   "source": [
    "#### Adaptation\n",
    "For each of the 10 `vegas` iterations, the algorithm makes an estimate of the integral, and then it performs a weighted (based on uncertainty) average to give a best estimate of the integral using all the information gathered so far.\n",
    "\n",
    "In the first iterations, the uncertainty is high because the algorithm has no information about the integrand.\n",
    "\n",
    "After each iteration, the integration variables are re-mapped for subsequent iterations, concentrating more samples where the function value is larger, thus decreasing the error.\n",
    "\n",
    "Eventually, the error stops decreasing because the algorithm has fully adapted to the integrand."
   ]
  },
  {
   "cell_type": "markdown",
   "metadata": {},
   "source": [
    "#### Weighted average\n",
    "The notation $0.0009779(67)$ should be read as:\n",
    "$$0.0009779(67) \\equiv 0.0009779 \\pm 0.0000067$$\n",
    "\n",
    "The individual `integral` values are samples from a Gaussian distribution (provided `neval` is sufficiently large) whose mean is the exact value of the integral, and the error represents the estimate of the standard deviation of such distribution.\n",
    "\n",
    "The weighted average $\\bar{I}$ minimizes:\n",
    "$$\\chi^2 = \\sum_i \\frac{(I_i - \\bar{I})^2}{\\sigma_i^2}$$\n",
    "where $I_i \\pm \\sigma_i$ are the estimates from individual iterations.\n",
    "\n",
    "If $I_i$ are Gaussian, the $\\chi^2$ should be of order the number of degrees of freedom (`dofs = neval - 1`) plus or minus the square root of double the dofs.\n",
    "\n",
    "The distributions, however, are likely not Gaussian, and if $\\chi^2$ is much larger than the number of dofs, then the error analysis in unreliable.\n",
    "\n",
    "To quantify this unreliability, we need to look at the `Q` or *p-value* of the $\\chi^2$, that is the probability that a larger $\\chi^2$ could result from Gaussian fluctuations.\n",
    "\n",
    "If `Q` is too small (below $0.05$ or $0.1$), it means that the large value of $\\chi^2$ is not random, but rather caused by an insufficient number of iterations `neval`.\n",
    "\n",
    "##### `RAvg` object\n",
    "`integ()` returns a `RAvg` object, which has the following attributes:\n",
    "- `mean`: weighted average of all estimates of the integral\n",
    "- `sdev`: standard deviation of the weighted average\n",
    "- `chi2`: $\\chi^2$ of the weighted average\n",
    "- `dof`: the number of degrees of freedom\n",
    "- `Q`: the *p-value* of the weighted average's $\\chi^2$\n",
    "- `itn_results`: list of the integral estimates from each iteration\n",
    "- `sum_neval`: total number of single integral evaluations\n",
    "- `avg_neval`: average number of integral evaluations per iteration"
   ]
  },
  {
   "cell_type": "markdown",
   "metadata": {},
   "source": [
    "#### Precision\n",
    "The precision is determined by `nitn` and `neval`. The computational cost is proportional to `nitn * neval`.\n",
    "\n",
    "The number of single integral evaluations varies between `vegas` iterations, being maximum in the first ones.\n",
    "\n",
    "To increase precision, one should typically increase `neval`, and then `nitn`."
   ]
  },
  {
   "cell_type": "code",
   "execution_count": 23,
   "metadata": {},
   "outputs": [
    {
     "name": "stdout",
     "output_type": "stream",
     "text": [
      "larger nitn  => 1.0004(13)    Q = 0.27\n",
      "larger neval => 0.99958(52)    Q = 0.14\n"
     ]
    }
   ],
   "source": [
    "result = integ(f, nitn=100, neval=1000)\n",
    "print('larger nitn  => %s    Q = %.2f' % (result, result.Q))\n",
    "\n",
    "result = integ(f, nitn=10, neval=1e4)\n",
    "print('larger neval => %s    Q = %.2f' % (result, result.Q))"
   ]
  },
  {
   "cell_type": "markdown",
   "metadata": {},
   "source": [
    "In the above example, increasing `neval` leads to a more accurate result."
   ]
  },
  {
   "cell_type": "markdown",
   "metadata": {},
   "source": [
    "Typically, no more than 10 or 20 iterations beyond the point where `vegas` has fully adapted are needed, just to check the values of $\\chi^2$ and $Q$. It is useful to compare results where `neval` differs by a factor of $4-10$, which should agree within errors. If they do not, it means that `neval` is too small."
   ]
  },
  {
   "cell_type": "markdown",
   "metadata": {},
   "source": [
    "`vegas` has two sources of error:\n",
    "- statistical error (goes as 1/sqrt(`neval`))\n",
    "- systematic error due to non-Gaussian effects (goes as 1/`neval`, and becomes negligible wrt statistical error as `neval` increases), that can be spotted by changing `neval` and seeing that results are not compatible within errors"
   ]
  },
  {
   "cell_type": "markdown",
   "metadata": {},
   "source": [
    "Making `nitn` larger keeping `neval` fixed is evantually deemed to give wrong results, because the statistical error will not mask the systematic one anymore."
   ]
  },
  {
   "cell_type": "markdown",
   "metadata": {},
   "source": [
    "#### Early iterations\n",
    "With very peaky integrands, the early iterations are very far from the correct answer, with unrealiable results and error estimates."
   ]
  },
  {
   "cell_type": "code",
   "execution_count": 24,
   "metadata": {},
   "outputs": [
    {
     "name": "stdout",
     "output_type": "stream",
     "text": [
      "itn   integral        wgt average     chi2/dof        Q\n",
      "-------------------------------------------------------\n",
      "  1   0.0055(49)      0.0055(49)          0.00     1.00\n",
      "  2   2.8(1.7)        0.0055(49)          2.72     0.10\n",
      "  3   2.6(1.2)        0.0055(49)          3.77     0.02\n",
      "  4   1.09(21)        0.0061(49)         11.07     0.00\n",
      "  5   0.998(74)       0.0104(49)         52.46     0.00\n",
      "  6   1.063(37)       0.0282(49)        197.37     0.00\n",
      "  7   1.009(23)       0.0718(48)        465.94     0.00\n",
      "  8   0.985(19)       0.1267(46)        716.60     0.00\n",
      "  9   1.021(15)       0.2000(44)       1012.58     0.00\n",
      " 10   1.018(13)       0.2818(42)       1281.25     0.00\n",
      "\n",
      "result = 0.2818(42)    Q = 0.00\n"
     ]
    }
   ],
   "source": [
    "integ = vegas.Integrator([[-2, 2], [0, 2], [0, 2], [0., 2]])\n",
    "result = integ(f, nitn=10, neval=1000)\n",
    "print(result.summary())\n",
    "print('result = %s    Q = %.2f' % (result, result.Q))"
   ]
  },
  {
   "cell_type": "markdown",
   "metadata": {},
   "source": [
    "`vegas` misses the peak completely in the first iterations, and so they pollute the error analysis, giving $Q = 0.00$."
   ]
  },
  {
   "cell_type": "markdown",
   "metadata": {},
   "source": [
    "This is solved by letting `vegas` run discarding results for a few iterations, letting it adapt to the integrand, and then do the error analysis:"
   ]
  },
  {
   "cell_type": "code",
   "execution_count": 25,
   "metadata": {},
   "outputs": [
    {
     "name": "stdout",
     "output_type": "stream",
     "text": [
      "itn   integral        wgt average     chi2/dof        Q\n",
      "-------------------------------------------------------\n",
      "  1   0.983(13)       0.983(13)           0.00     1.00\n",
      "  2   0.967(14)       0.9760(94)          0.70     0.40\n",
      "  3   1.012(11)       0.9912(71)          3.41     0.03\n",
      "  4   1.026(15)       0.9973(65)          3.64     0.01\n",
      "  5   0.995(16)       0.9970(60)          2.73     0.03\n",
      "  6   1.013(19)       0.9984(57)          2.31     0.04\n",
      "  7   1.009(14)       0.9999(53)          2.01     0.06\n",
      "  8   1.006(15)       1.0005(50)          1.74     0.10\n",
      "  9   1.009(14)       1.0014(47)          1.56     0.13\n",
      " 10   1.000(13)       1.0013(44)          1.39     0.19\n",
      "\n",
      "result = 1.0013(44)    Q = 0.19\n"
     ]
    }
   ],
   "source": [
    "integ = vegas.Integrator([[-2, 2], [0, 2], [0, 2], [0., 2]])\n",
    "\n",
    "# step 1 -- adapt to f; discard results\n",
    "integ(f, nitn=10, neval=1000)\n",
    "\n",
    "# step 2 -- integ has adapted to f; keep results\n",
    "result = integ(f, nitn=10, neval=1000)\n",
    "print(result.summary())\n",
    "print('result = %s    Q = %.2f' % (result, result.Q))"
   ]
  },
  {
   "cell_type": "markdown",
   "metadata": {},
   "source": [
    "#### Other integrands\n",
    "Once `integ` has been trained on an integrand, it can be successfully used on other functions with similar structure (peaks in the same region)."
   ]
  },
  {
   "cell_type": "code",
   "execution_count": 26,
   "metadata": {},
   "outputs": [
    {
     "name": "stdout",
     "output_type": "stream",
     "text": [
      "itn   integral        wgt average     chi2/dof        Q\n",
      "-------------------------------------------------------\n",
      "  1   0.5026(62)      0.5026(62)          0.00     1.00\n",
      "  2   0.4900(59)      0.4960(43)          2.15     0.14\n",
      "  3   0.4979(70)      0.4966(37)          1.10     0.33\n",
      "  4   0.4971(85)      0.4966(34)          0.74     0.53\n",
      "  5   0.5078(83)      0.4982(31)          0.94     0.44\n",
      "  6   0.4873(75)      0.4966(29)          1.11     0.35\n",
      "  7   0.4959(73)      0.4965(27)          0.92     0.48\n",
      "  8   0.510(12)       0.4972(26)          0.96     0.46\n",
      "  9   0.5057(86)      0.4979(25)          0.95     0.47\n",
      " 10   0.509(10)       0.4986(24)          0.98     0.45\n",
      "\n",
      "result = 0.4986(24)    Q = 0.45\n"
     ]
    }
   ],
   "source": [
    "def g(x):\n",
    "    return x[0] * f(x)\n",
    "\n",
    "result = integ(g, nitn=10, neval=1000)\n",
    "print(result.summary())\n",
    "print('result = %s    Q = %.2f' % (result, result.Q))"
   ]
  },
  {
   "cell_type": "markdown",
   "metadata": {},
   "source": [
    "#### Non-rectangular volumes\n",
    "`vegas` can be used to integrate over non-rectangular domains, by setting the value of the function outside the integration volume equal to zero."
   ]
  },
  {
   "cell_type": "code",
   "execution_count": 27,
   "metadata": {},
   "outputs": [
    {
     "name": "stdout",
     "output_type": "stream",
     "text": [
      "itn   integral        wgt average     chi2/dof        Q\n",
      "-------------------------------------------------------\n",
      "  1   0.995(20)       0.995(20)           0.00     1.00\n",
      "  2   1.003(21)       0.999(15)           0.09     0.76\n",
      "  3   0.930(15)       0.965(10)           5.45     0.00\n",
      "  4   0.972(21)       0.9663(94)          3.67     0.01\n",
      "  5   1.013(41)       0.9687(91)          3.06     0.02\n",
      "  6   1.009(35)       0.9713(88)          2.70     0.02\n",
      "  7   1.071(64)       0.9731(87)          2.65     0.01\n",
      "  8   1.027(30)       0.9773(84)          2.69     0.01\n",
      "  9   0.998(26)       0.9792(80)          2.43     0.01\n",
      " 10   0.988(20)       0.9805(74)          2.18     0.02\n",
      "\n",
      "result = 0.9805(74)    Q = 0.02\n"
     ]
    }
   ],
   "source": [
    "import vegas\n",
    "import math\n",
    "\n",
    "def f_sph(x):\n",
    "    dx2 = 0\n",
    "    for d in range(4):\n",
    "        dx2 += (x[d] - 0.5) ** 2\n",
    "    if dx2 < 0.2 ** 2:\n",
    "        return math.exp(-dx2 * 100.) * 1115.3539360527281318 # to make exact integral equal 1\n",
    "    else:\n",
    "        return 0.0\n",
    "\n",
    "integ = vegas.Integrator([[-1, 1], [0, 1], [0, 1], [0, 1]])\n",
    "\n",
    "integ(f_sph, nitn=10, neval=1000)           # adapt the grid\n",
    "result = integ(f_sph, nitn=10, neval=1000)  # estimate the integral\n",
    "print(result.summary())\n",
    "print('result = %s    Q = %.2f' % (result, result.Q))"
   ]
  },
  {
   "cell_type": "markdown",
   "metadata": {},
   "source": [
    "It is a good practice to make the integration volume as large as possible with respect to the rectangle passed to `vegas`."
   ]
  },
  {
   "cell_type": "markdown",
   "metadata": {},
   "source": [
    "Integrating to infinity is possible by changing variables (using, e.g. $x = bz/(1-z)$ or $\\arctan$)"
   ]
  },
  {
   "cell_type": "markdown",
   "metadata": {},
   "source": [
    "#### Damping\n",
    "One can slow down the `vegas` process of adaptation to reduce the error fluctuations between iterations, using `alpha`, which defaults to $0.5$."
   ]
  },
  {
   "cell_type": "code",
   "execution_count": 28,
   "metadata": {},
   "outputs": [
    {
     "name": "stdout",
     "output_type": "stream",
     "text": [
      "itn   integral        wgt average     chi2/dof        Q\n",
      "-------------------------------------------------------\n",
      "  1   1.029(26)       1.029(26)           0.00     1.00\n",
      "  2   0.979(23)       1.001(17)           2.04     0.15\n",
      "  3   0.977(22)       0.992(14)           1.41     0.24\n",
      "  4   1.035(21)       1.005(11)           1.96     0.12\n",
      "  5   0.982(20)       0.9993(99)          1.71     0.15\n",
      "  6   0.984(20)       0.9963(89)          1.46     0.20\n",
      "  7   1.010(18)       0.9990(80)          1.30     0.25\n",
      "  8   1.011(17)       1.0010(73)          1.17     0.32\n",
      "  9   0.996(17)       1.0003(67)          1.03     0.41\n",
      " 10   0.983(17)       0.9980(62)          1.02     0.42\n",
      "\n",
      "result = 0.9980(62)    Q = 0.42\n"
     ]
    }
   ],
   "source": [
    "integ = vegas.Integrator([[-1, 1], [0, 1], [0, 1], [0, 1]])\n",
    "integ(f_sph, nitn=10, neval=1000, alpha=0.1)\n",
    "result = integ(f_sph, nitn=10, neval=1000, alpha=0.1)\n",
    "print(result.summary())\n",
    "print('result = %s    Q = %.2f' % (result, result.Q))"
   ]
  },
  {
   "cell_type": "markdown",
   "metadata": {},
   "source": [
    "If there are persistent, large fluctuations in the size of the per-iteration errors, then `alpha` should be reduced.\n",
    "\n",
    "With larger `alpha`s, `vegas` can over-react to random fluctuations it encounters as it samples the integrand.\n",
    "\n",
    "We want `alpha` to be large enough so that `vegas` gives the result as quickly as possible, but not too large to make it fluctuate too much once it finds the optimal value."
   ]
  },
  {
   "cell_type": "markdown",
   "metadata": {},
   "source": [
    "#### `adapt=False`\n",
    "One can switch off adaptation for three reasons:\n",
    "- Instability in error fluctuations (as described in previous paragraph)\n",
    "- `vegas` runs faster when it is not adapting, so it can be useful for simple integrands\n",
    "- When adaptation is off, `vegas` uses unweighted averages instead of weighted ones, and the averages have no systematic error, giving correct results even for large `nitn`\n",
    "\n",
    "Switching off adaptation is useful when `neval` is too small for the integrand.\n",
    "\n",
    "One can leave adaptation on for the first 10 iterations, and then switch it off for the following ones, and perform a statistical analysis (in this case, to use the adaptation, `neval` must not change between the two runs)."
   ]
  },
  {
   "cell_type": "markdown",
   "metadata": {},
   "source": [
    "### Faster integrands\n",
    "In some cases, it may be necessary to send `neval` to a very big number $10^5$ or more.\n",
    "\n",
    "We can use the batch mode of `vegas`."
   ]
  },
  {
   "cell_type": "code",
   "execution_count": 30,
   "metadata": {},
   "outputs": [
    {
     "name": "stdout",
     "output_type": "stream",
     "text": [
      "result = 0.999970(78)   Q = 0.38\n"
     ]
    }
   ],
   "source": [
    "import vegas\n",
    "import numpy as np\n",
    "\n",
    "@vegas.lbatchintegrand\n",
    "def f_batch(x):\n",
    "    # evaluate integrand at multiple points simultaneously\n",
    "    dim = x.shape[1] # instead of len(x)\n",
    "    norm = 1013.2118364296088 ** (dim / 4.)\n",
    "    dx2 = 0.0\n",
    "    for d in range(dim):\n",
    "        dx2 += (x[:, d] - 0.5) ** 2   # instead of dx2 += (x[d] - 0.5) ** 2\n",
    "    return np.exp(-100. * dx2) * norm\n",
    "\n",
    "integ = vegas.Integrator(4 * [[0, 1]])\n",
    "\n",
    "integ(f_batch, nitn=10, neval=2e5)\n",
    "result = integ(f_batch, nitn=10, neval=2e5)\n",
    "print('result = %s   Q = %.2f' % (result, result.Q))"
   ]
  },
  {
   "cell_type": "markdown",
   "metadata": {},
   "source": [
    "The function `f_batch` takes an array of multidimensional points `x[i, d]` (where `i` labels the point and `d` the point component) instead of a single point and returns an array of function values. The decorator `vegas.llbatchintegrand` makes `vegas` pass a batch of sample points to evaluate the integral, and this speeds up the integration."
   ]
  },
  {
   "cell_type": "markdown",
   "metadata": {},
   "source": [
    "An alternative to decorate the function is to decorate the class (or extend `vegas.LBatchIntegrand`):"
   ]
  },
  {
   "cell_type": "code",
   "execution_count": 31,
   "metadata": {},
   "outputs": [
    {
     "name": "stdout",
     "output_type": "stream",
     "text": [
      "result = 1.000139(78)   Q = 0.25\n"
     ]
    }
   ],
   "source": [
    "import vegas\n",
    "import numpy as np\n",
    "\n",
    "@vegas.lbatchintegrand\n",
    "class f_batch:\n",
    "    def __init__(self, dim):\n",
    "        self.dim = dim\n",
    "        self.norm = 1013.2118364296088 ** (dim / 4.)\n",
    "\n",
    "    def __call__(self, x):\n",
    "        # evaluate integrand at multiple points simultaneously\n",
    "        dx2 = 0.0\n",
    "        for d in range(self.dim):\n",
    "            dx2 += (x[:, d] - 0.5) ** 2\n",
    "        return np.exp(-100. * dx2) * self.norm\n",
    "\n",
    "f = f_batch(dim=4)\n",
    "integ = vegas.Integrator(f.dim * [[0, 1]])\n",
    "\n",
    "integ(f, nitn=10, neval=2e5)\n",
    "result = integ(f, nitn=10, neval=2e5)\n",
    "print('result = %s   Q = %.2f' % (result, result.Q))"
   ]
  },
  {
   "cell_type": "markdown",
   "metadata": {},
   "source": [
    "As an alternative, one can write the integrand in Cython (see `vegas` docs)."
   ]
  },
  {
   "cell_type": "markdown",
   "metadata": {},
   "source": [
    "### Multiple processors"
   ]
  },
  {
   "cell_type": "code",
   "execution_count": 33,
   "metadata": {},
   "outputs": [],
   "source": [
    "import vegas\n",
    "import numpy as np\n",
    "\n",
    "# Integrand: ridge of N Gaussians spread along part of the diagonal\n",
    "def ridge(x):\n",
    "    N = 10000\n",
    "    x0 = np.linspace(0.4, 0.6, N)\n",
    "    dx2 = 0.0\n",
    "    for xd in x:\n",
    "        dx2 += (xd - x0) ** 2\n",
    "    return np.average(np.exp(-100. * dx2)) *  (100. / np.pi) ** (len(x) / 2.)\n",
    "\n",
    "def main():\n",
    "    integ = vegas.Integrator(4 * [[0, 1]], nproc=8)  # 8 processors\n",
    "    # adapt\n",
    "    integ(ridge, nitn=10, neval=1e4)\n",
    "    # final results\n",
    "    result = integ(ridge, nitn=10, neval=1e4)\n",
    "    print('result = %s    Q = %.2f' % (result, result.Q))\n",
    "\n",
    "if __name__ == '__main__':\n",
    "    main()"
   ]
  },
  {
   "cell_type": "markdown",
   "metadata": {},
   "source": [
    "The code above will generate an AttributeError when run in some interactive environments (as opposed to running from the command line) on some platforms. This can usually be fixed by putting the integrand function ridge(x) into a file and importing it into the script."
   ]
  },
  {
   "cell_type": "markdown",
   "metadata": {},
   "source": [
    "One can use Python's `multiprocessing` module"
   ]
  },
  {
   "cell_type": "code",
   "execution_count": null,
   "metadata": {},
   "outputs": [],
   "source": [
    "import multiprocessing\n",
    "import numpy as np\n",
    "import vegas\n",
    "\n",
    "class parallelintegrand(vegas.BatchIntegrand):\n",
    "    \"\"\" Convert (batch) integrand into multiprocessor integrand.\n",
    "\n",
    "    Integrand should return a numpy array.\n",
    "    \"\"\"\n",
    "    def __init__(self, fcn, nproc=4):\n",
    "        \" Save integrand; create pool of nproc processes. \"\n",
    "        super().__init__()\n",
    "        self.fcn = fcn\n",
    "        self.nproc = nproc\n",
    "        self.pool = multiprocessing.Pool(processes=nproc)\n",
    "    def __del__(self):\n",
    "        \" Standard cleanup. \"\n",
    "        self.pool.close()\n",
    "        self.pool.join()\n",
    "    def __call__(self, x):\n",
    "        \" Divide x into self.nproc chunks, feeding one to each process. \"\n",
    "        nx = x.shape[0] // self.nproc + 1\n",
    "        # launch evaluation of self.fcn for each chunk, in parallel\n",
    "        results = self.pool.map(\n",
    "            self.fcn,\n",
    "            [x[i*nx : (i+1)*nx] for i in range(self.nproc)],\n",
    "            1,\n",
    "            )\n",
    "        # convert list of results into a single numpy array\n",
    "        return np.concatenate(results)"
   ]
  },
  {
   "cell_type": "markdown",
   "metadata": {},
   "source": [
    "Then `fparallel = parallelintegrand(f, 4)`, for example, will create a new integrand `fparallel(x)` that uses 4 CPU cores."
   ]
  }
 ],
 "metadata": {
  "kernelspec": {
   "display_name": "numerical",
   "language": "python",
   "name": "python3"
  },
  "language_info": {
   "codemirror_mode": {
    "name": "ipython",
    "version": 3
   },
   "file_extension": ".py",
   "mimetype": "text/x-python",
   "name": "python",
   "nbconvert_exporter": "python",
   "pygments_lexer": "ipython3",
   "version": "3.11.9"
  }
 },
 "nbformat": 4,
 "nbformat_minor": 2
}
