{
 "cells": [
  {
   "cell_type": "code",
   "execution_count": 1,
   "metadata": {},
   "outputs": [],
   "source": [
    "from lqfn.plain_qm import SchrodingerSystem\n",
    "from lqfn.plotting import plot_delta_E\n",
    "from numba import njit"
   ]
  },
  {
   "cell_type": "markdown",
   "metadata": {},
   "source": [
    "Calculation of the propagator for a one dimensional anharmonic oscillator, meaning that the potential is\n",
    "$$\n",
    "    V(x) = \\frac{x^4}{4}\n",
    "$$"
   ]
  },
  {
   "cell_type": "code",
   "execution_count": 2,
   "metadata": {},
   "outputs": [],
   "source": [
    "T = 10\n",
    "N = 20"
   ]
  },
  {
   "cell_type": "code",
   "execution_count": 3,
   "metadata": {},
   "outputs": [],
   "source": [
    "eps=1.4\n",
    "N_copies = 10"
   ]
  },
  {
   "cell_type": "code",
   "execution_count": 4,
   "metadata": {},
   "outputs": [],
   "source": [
    "a = T/N"
   ]
  },
  {
   "cell_type": "code",
   "execution_count": 5,
   "metadata": {},
   "outputs": [],
   "source": [
    "@njit\n",
    "def compute_G(x,n):\n",
    "    N = x.shape[0]\n",
    "    g = 0\n",
    "    for j in range(0,N):        \n",
    "        g = g + x[j]*x[(j+n)%N]\n",
    "    return g/N"
   ]
  },
  {
   "cell_type": "code",
   "execution_count": 6,
   "metadata": {},
   "outputs": [],
   "source": [
    "@njit\n",
    "def V(x):\n",
    "    return x**4/4"
   ]
  },
  {
   "cell_type": "code",
   "execution_count": 7,
   "metadata": {},
   "outputs": [],
   "source": [
    "@njit\n",
    "def S_per_timeslice_quartic(j,x,a): # harm. osc. S\n",
    "    N = x.shape[0]\n",
    "    jp = (j+1)%N # next site\n",
    "    jm = (j-1+N)%N # previous site\n",
    "    return a*V(x[j]) + x[j]*(x[j]-x[jp]-x[jm])/a"
   ]
  },
  {
   "cell_type": "code",
   "execution_count": 8,
   "metadata": {},
   "outputs": [],
   "source": [
    "anharm_osc = SchrodingerSystem(T=T, N=N, V=V, S_per_timeslice=S_per_timeslice_quartic)"
   ]
  },
  {
   "cell_type": "code",
   "execution_count": 9,
   "metadata": {},
   "outputs": [
    {
     "name": "stdout",
     "output_type": "stream",
     "text": [
      "Computing...\n",
      "Took 0.5206799507141113\n",
      "$\\Delta E$ of quartic oscillator: 0.5435549206545838\n"
     ]
    }
   ],
   "source": [
    "delta_E_exact = anharm_osc.get_delta_E_schrodinger()\n",
    "print(f'$\\\\Delta E$ of quartic oscillator: {delta_E_exact}')"
   ]
  },
  {
   "cell_type": "code",
   "execution_count": 10,
   "metadata": {},
   "outputs": [],
   "source": [
    "avg_delta_E, std_delta_E = anharm_osc.compute_delta_E_pimc(functional=compute_G,\n",
    "                                                           N_cf=10000,\n",
    "                                                           N_cor=250,\n",
    "                                                           eps=eps,\n",
    "                                                           N_copies=N_copies)"
   ]
  },
  {
   "cell_type": "code",
   "execution_count": 11,
   "metadata": {},
   "outputs": [
    {
     "name": "stderr",
     "output_type": "stream",
     "text": [
      "c:\\Users\\damia\\Projects\\path-integral-monte-carlo\\src\\lqfn\\plotting.py:58: UserWarning: FigureCanvasAgg is non-interactive, and thus cannot be shown\n",
      "  self.fig.show()\n"
     ]
    },
    {
     "data": {
      "image/png": "[encoded data removed]",
      "text/plain": [
       "<Figure size 640x480 with 1 Axes>"
      ]
     },
     "metadata": {},
     "output_type": "display_data"
    }
   ],
   "source": [
    "fig = plot_delta_E(avg_delta_E, std_delta_E,\n",
    "                   exact=delta_E_exact,\n",
    "                   a=a,\n",
    "                   title=\"Anharmonic oscillator\",\n",
    "                   n=6)\n",
    "fig.show()"
   ]
  },
  {
   "cell_type": "markdown",
   "metadata": {},
   "source": [
    "We notice that there is a shift, this is due to renormalization effects, that are not present in the harmonic oscillator case because the quartic potential acts as an interaction potential, while the quadratic one looks like a free mass term.\n",
    "We analyze this better in anharmonic-oscillator.ipynb"
   ]
  }
 ],
 "metadata": {
  "kernelspec": {
   "display_name": "lqfn",
   "language": "python",
   "name": "python3"
  },
  "language_info": {
   "codemirror_mode": {
    "name": "ipython",
    "version": 3
   },
   "file_extension": ".py",
   "mimetype": "text/x-python",
   "name": "python",
   "nbconvert_exporter": "python",
   "pygments_lexer": "ipython3",
   "version": "3.11.9"
  }
 },
 "nbformat": 4,
 "nbformat_minor": 2
}
