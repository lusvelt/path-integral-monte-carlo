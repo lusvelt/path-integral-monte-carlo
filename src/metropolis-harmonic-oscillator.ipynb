{
 "cells": [
  {
   "cell_type": "code",
   "execution_count": 1,
   "metadata": {},
   "outputs": [],
   "source": [
    "import numpy as np\n",
    "from matplotlib import pyplot as plt\n",
    "import lqfn.numerical.pimc.metropolis as metropolis"
   ]
  },
  {
   "cell_type": "code",
   "execution_count": 2,
   "metadata": {},
   "outputs": [],
   "source": [
    "N=20\n",
    "a=0.5\n",
    "eps=1.4\n",
    "N_cor=20\n",
    "N_cf=1000\n",
    "E_0 = 0.5\n",
    "E_1 = 1.5\n",
    "N_copies =10"
   ]
  },
  {
   "cell_type": "code",
   "execution_count": 3,
   "metadata": {},
   "outputs": [],
   "source": [
    "def S(j,x): # harm. osc. S\n",
    "    jp = (j+1)%N # next site\n",
    "    jm = (j-1)%N # previous site\n",
    "    return a*x[j]**2/2 + x[j]*(x[j]-x[jp]-x[jm])/a"
   ]
  },
  {
   "cell_type": "code",
   "execution_count": 4,
   "metadata": {},
   "outputs": [],
   "source": [
    "def compute_G(x,n):\n",
    "    g = 0\n",
    "    for j in range(0,N):        \n",
    "        g = g + x[j]*x[(j+n)%N]\n",
    "    return g/N"
   ]
  },
  {
   "cell_type": "code",
   "execution_count": 5,
   "metadata": {},
   "outputs": [],
   "source": [
    "avg, std = metropolis.compute_path_integral_average(compute_G, S, N, N_cf, N_cor, eps)"
   ]
  },
  {
   "cell_type": "code",
   "execution_count": 6,
   "metadata": {},
   "outputs": [],
   "source": [
    "def delta_E(avg):\n",
    "    delta_E = np.zeros(N-1)\n",
    "    for n in range (0,N-1):\n",
    "        delta_E[n] = np.log(np.abs(avg[n]/avg[n+1]))\n",
    "    return delta_E\n",
    "\n",
    "def error_delta_E(avg, std):\n",
    "    error_delta_E = np.zeros(N-1)\n",
    "    for n in range (0,N-1):\n",
    "        error_delta_E[n] = np.sqrt(((std[n] / avg[n])**2 + \n",
    "                                   (std[n+1] / avg[n+1])**2)) #propagation of error\n",
    "    return error_delta_E"
   ]
  },
  {
   "cell_type": "code",
   "execution_count": 7,
   "metadata": {},
   "outputs": [],
   "source": [
    "avg_bootstrap = np.zeros((N_copies,N))\n",
    "for i in range (N_copies):\n",
    "    avg_bootstrap[i] = metropolis.compute_path_integral_average_bootstrap(compute_G, S, N, N_cf, N_cor, eps)[0]"
   ]
  },
  {
   "cell_type": "code",
   "execution_count": 8,
   "metadata": {},
   "outputs": [],
   "source": [
    "def compute_delta_E_bootstrap(avg_bootstrap):\n",
    "    delta_E_bootstrap = np.zeros((N_copies,N-1))\n",
    "    for i in range (N_copies):\n",
    "        delta_E_bootstrap[i] = delta_E(avg_bootstrap[i])\n",
    "    avg = delta_E_bootstrap.mean(axis=0)\n",
    "    std = delta_E_bootstrap.std(axis=0) \n",
    "    return avg, std"
   ]
  },
  {
   "cell_type": "code",
   "execution_count": 9,
   "metadata": {},
   "outputs": [],
   "source": [
    "average_delta_E_with_bootstrap, std_delta_E_with_boostrap = compute_delta_E_bootstrap(avg_bootstrap)"
   ]
  },
  {
   "cell_type": "code",
   "execution_count": 10,
   "metadata": {},
   "outputs": [],
   "source": [
    "t = np.arange(N-1) * a\n",
    "E_exact = np.ones(N-1) * (a*(E_1-E_0))"
   ]
  },
  {
   "cell_type": "code",
   "execution_count": 11,
   "metadata": {},
   "outputs": [
    {
     "data": {
      "image/png": "[encoded data removed]",
      "text/plain": [
       "<Figure size 640x480 with 1 Axes>"
      ]
     },
     "metadata": {},
     "output_type": "display_data"
    }
   ],
   "source": [
    "plt.plot(t, E_exact ,'b',label='Expected')\n",
    "#plt.scatter(t, delta_E(avg), color='black', label='Numerical', s=1)\n",
    "#plt.scatter(t, average_delta_E_with_bootstrap, color= 'red', label = 'bootstrap', s=1)\n",
    "plt.errorbar(t, delta_E(avg), yerr=error_delta_E(avg, std), fmt='.', color='black', label='Numerical')\n",
    "plt.errorbar(t, average_delta_E_with_bootstrap, yerr=std_delta_E_with_boostrap,color='red' ,label='Bootstrap',fmt='.')\n",
    "plt.legend(loc='upper right')\n",
    "plt.title('Harmonic oscillator')\n",
    "plt.xlabel('t')\n",
    "plt.ylabel(r'$\\Delta E(t)$')\n",
    "plt.show()"
   ]
  }
 ],
 "metadata": {
  "kernelspec": {
   "display_name": "base",
   "language": "python",
   "name": "python3"
  },
  "language_info": {
   "codemirror_mode": {
    "name": "ipython",
    "version": 3
   },
   "file_extension": ".py",
   "mimetype": "text/x-python",
   "name": "python",
   "nbconvert_exporter": "python",
   "pygments_lexer": "ipython3",
   "version": "3.11.7"
  }
 },
 "nbformat": 4,
 "nbformat_minor": 2
}
