{
 "cells": [
  {
   "cell_type": "code",
   "execution_count": 1,
   "metadata": {},
   "outputs": [],
   "source": [
    "import numpy as np\n",
    "from matplotlib import pyplot as plt\n",
    "from lqfn.quantum_systems import NonRelativisticSingleParticle1D\n",
    "from lqfn.plotting import plot_delta_E"
   ]
  },
  {
   "cell_type": "markdown",
   "metadata": {},
   "source": [
    "Calculation of the propagator for a one dimensional anharmonic oscillator, meaning that the potential is\n",
    "$$\n",
    "    V(x) = \\frac{x^4}{4}\n",
    "$$"
   ]
  },
  {
   "cell_type": "code",
   "execution_count": 2,
   "metadata": {},
   "outputs": [],
   "source": [
    "N=20\n",
    "a=0.5\n",
    "eps=1.4\n",
    "N_cor=20\n",
    "N_cf=1000\n",
    "N_copies = 10"
   ]
  },
  {
   "cell_type": "code",
   "execution_count": 3,
   "metadata": {},
   "outputs": [],
   "source": [
    "def S_per_timeslice_quartic(j,x): # harm. osc. S\n",
    "    jp = (j+1)%N # next site\n",
    "    jm = (j-1+N)%N # previous site\n",
    "    return a*x[j]**4/4 + x[j]*(x[j]-x[jp]-x[jm])/a"
   ]
  },
  {
   "cell_type": "code",
   "execution_count": 16,
   "metadata": {},
   "outputs": [],
   "source": [
    "def quartic_potential(x):\n",
    "    return x**4/4"
   ]
  },
  {
   "cell_type": "code",
   "execution_count": 17,
   "metadata": {},
   "outputs": [],
   "source": [
    "anharmonic_oscillator = NonRelativisticSingleParticle1D(T=a*N, N=N, V=quartic_potential, S_per_timeslice=S_per_timeslice_quartic)"
   ]
  },
  {
   "cell_type": "code",
   "execution_count": 18,
   "metadata": {},
   "outputs": [
    {
     "name": "stdout",
     "output_type": "stream",
     "text": [
      "Computing...\n",
      "Took 0.012998104095458984\n"
     ]
    }
   ],
   "source": [
    "eigenstates = anharmonic_oscillator.solve_schrodinger(10000,2)"
   ]
  },
  {
   "cell_type": "code",
   "execution_count": 19,
   "metadata": {},
   "outputs": [
    {
     "data": {
      "text/plain": [
       "array([0.42084619, 1.50799538])"
      ]
     },
     "execution_count": 19,
     "metadata": {},
     "output_type": "execute_result"
    }
   ],
   "source": [
    "eigenstates.energies"
   ]
  },
  {
   "cell_type": "code",
   "execution_count": 20,
   "metadata": {},
   "outputs": [
    {
     "name": "stdout",
     "output_type": "stream",
     "text": [
      "$\\Delta E$ of quartic oscillator: 1.0871491896739418\n"
     ]
    }
   ],
   "source": [
    "E_exact = eigenstates.energies[1] - eigenstates.energies[0]\n",
    "print(f'$\\\\Delta E$ of quartic oscillator: {E_exact}')"
   ]
  },
  {
   "cell_type": "markdown",
   "metadata": {},
   "source": [
    "Recall that the actual $\\Delta E$ is defined with a factor of $a$"
   ]
  },
  {
   "cell_type": "code",
   "execution_count": 21,
   "metadata": {},
   "outputs": [],
   "source": [
    "E_exact *= a"
   ]
  },
  {
   "cell_type": "markdown",
   "metadata": {},
   "source": [
    "Calculation of the correlation function \n",
    "$$\n",
    "    G(t) = \\frac{1}{N} \\sum_j \\langle x(t_j+t)x(t_j) \\rangle\n",
    "$$ \n",
    "using bootstrap procedure."
   ]
  },
  {
   "cell_type": "code",
   "execution_count": 22,
   "metadata": {},
   "outputs": [],
   "source": [
    "def compute_G(x,n):\n",
    "    g = 0\n",
    "    for j in range(0,N):        \n",
    "        g = g + x[j]*x[(j+n)%N]\n",
    "    return g/N"
   ]
  },
  {
   "cell_type": "code",
   "execution_count": 30,
   "metadata": {},
   "outputs": [],
   "source": [
    "average_delta_E, std_delta_E = anharmonic_oscillator.compute_delta_E(compute_G, N_cf, N_cor=50, eps=eps, N_copies=N_copies)"
   ]
  },
  {
   "cell_type": "code",
   "execution_count": 32,
   "metadata": {},
   "outputs": [
    {
     "name": "stderr",
     "output_type": "stream",
     "text": [
      "C:\\Users\\damia\\AppData\\Local\\Temp\\ipykernel_20840\\3557305629.py:2: UserWarning: FigureCanvasAgg is non-interactive, and thus cannot be shown\n",
      "  fig.show()\n"
     ]
    },
    {
     "data": {
      "image/png": "[encoded data removed]",
      "text/plain": [
       "<Figure size 640x480 with 1 Axes>"
      ]
     },
     "metadata": {},
     "output_type": "display_data"
    }
   ],
   "source": [
    "fig = plot_delta_E(E_exact, average_delta_E, std_delta_E, a, \"Anharmonic oscillator\", n=6)\n",
    "fig.show()"
   ]
  }
 ],
 "metadata": {
  "kernelspec": {
   "display_name": "base",
   "language": "python",
   "name": "python3"
  },
  "language_info": {
   "codemirror_mode": {
    "name": "ipython",
    "version": 3
   },
   "file_extension": ".py",
   "mimetype": "text/x-python",
   "name": "python",
   "nbconvert_exporter": "python",
   "pygments_lexer": "ipython3",
   "version": "3.11.9"
  }
 },
 "nbformat": 4,
 "nbformat_minor": 2
}
