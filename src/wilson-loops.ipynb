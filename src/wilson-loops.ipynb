{
 "cells": [
  {
   "cell_type": "code",
   "execution_count": 1,
   "metadata": {},
   "outputs": [],
   "source": [
    "import numpy as np\n",
    "from lqfn.gauge_qft.lattice_qcd import *"
   ]
  },
  {
   "cell_type": "code",
   "execution_count": 2,
   "metadata": {},
   "outputs": [],
   "source": [
    "d = 4\n",
    "N = 8\n",
    "eps = 0.24\n",
    "beta = 5.5\n",
    "u0= 0.797\n",
    "beta_improved = 1.719 \n",
    "N_cor = 50"
   ]
  },
  {
   "cell_type": "code",
   "execution_count": 3,
   "metadata": {},
   "outputs": [],
   "source": [
    "random_matrices = generate_update_matrices_set(100, eps)\n",
    "links = create_lattice_links(N, d)"
   ]
  },
  {
   "cell_type": "code",
   "execution_count": 4,
   "metadata": {},
   "outputs": [
    {
     "name": "stderr",
     "output_type": "stream",
     "text": [
      "c:\\Users\\feder\\OneDrive\\Desktop\\Finelli\\repository\\lattice-qcd-for-novices\\src\\lqfn\\gauge_qft\\lattice_qcd.py:297: NumbaPerformanceWarning: \u001b[1m\u001b[1m\u001b[1m\u001b[1m\u001b[1m\u001b[1m\u001b[1m'@' is faster on contiguous arrays, called on (Array(complex128, 2, 'C', False, aligned=True), Array(complex128, 2, 'A', False, aligned=True))\u001b[0m\u001b[0m\u001b[0m\u001b[0m\u001b[0m\u001b[0m\u001b[0m\n",
      "  wilson_samples = generate_wilson_samples(links, x, steps, N_cf, N_cor, hits, thermalization_its, bin_size, beta, random_matrices, u0, improved)\n"
     ]
    },
    {
     "name": "stdout",
     "output_type": "stream",
     "text": [
      "0/5\n",
      "1/5\n",
      "2/5\n",
      "3/5\n",
      "4/5\n",
      "0.25491303504854507 0.16355194457678363\n"
     ]
    }
   ],
   "source": [
    "x = np.array([0,0,0,0], dtype=np.int32)\n",
    "steps = np.array([+1,+2,-1,-2], dtype=np.int32)\n",
    "value, error = compute_path_integral_average(links, x, steps, 20, 10, 10, 3, 1, 1, beta, random_matrices,u0,improved= False)\n",
    "print(value, error)"
   ]
  },
  {
   "cell_type": "code",
   "execution_count": 5,
   "metadata": {},
   "outputs": [
    {
     "name": "stderr",
     "output_type": "stream",
     "text": [
      "c:\\Users\\damia\\Projects\\path-integral-monte-carlo\\src\\lqfn\\gauge_qft\\lattice_qcd.py:323: NumbaPerformanceWarning: \u001b[1m\u001b[1m\u001b[1m\u001b[1m\u001b[1m\u001b[1m\u001b[1m'@' is faster on contiguous arrays, called on (Array(complex128, 2, 'C', False, aligned=True), Array(complex128, 2, 'A', False, aligned=True))\u001b[0m\u001b[0m\u001b[0m\u001b[0m\u001b[0m\u001b[0m\u001b[0m\n",
      "  wilson_samples = generate_wilson_samples(links, loops, N_cf, N_cor, hits, thermalization_its, bin_size, beta, random_matrices, u0, improved, rotate_time)\n"
     ]
    },
    {
     "name": "stdout",
     "output_type": "stream",
     "text": [
      "0/2 thermalization iteration\n",
      "1/2 thermalization iteration\n",
      "0/10\n",
      "0.5038049974629454\n",
      "0.2664925399137999\n",
      "1/10\n",
      "0.5025649701778799\n",
      "0.26697382664640174\n",
      "2/10\n",
      "0.499261155112731\n",
      "0.26291615652935413\n",
      "3/10\n",
      "0.4983911116123408\n",
      "0.2619711384153803\n",
      "4/10\n",
      "0.4915156387396837\n",
      "0.25449069989744394\n",
      "5/10\n",
      "0.4969858223462455\n",
      "0.26063212601716945\n",
      "6/10\n",
      "0.49530323639156976\n",
      "0.258763237138599\n",
      "7/10\n",
      "0.48990268325474456\n",
      "0.24922787033317703\n",
      "8/10\n",
      "0.4957617932891607\n",
      "0.2565628275570351\n",
      "9/10\n",
      "0.4932752567652044\n",
      "0.2560063148955384\n",
      "[[0.49688373 0.25920426]\n",
      " [0.49694653 0.2604042 ]\n",
      " [0.49760564 0.26050042]\n",
      " [0.49776504 0.26076472]\n",
      " [0.49813154 0.26128732]\n",
      " [0.49709358 0.25964621]\n",
      " [0.49643335 0.25929731]\n",
      " [0.4971208  0.26013522]\n",
      " [0.49628905 0.25905383]\n",
      " [0.49477811 0.25722734]]\n"
     ]
    }
   ],
   "source": [
    "loops = np.array([[+1,+2,-1,-2,0,0], [+1,+1,+2,-1,-1,-2]], dtype=np.int32)\n",
    "result = compute_path_integral_average(links, loops, N_cf=10, N_cor=N_cor, hits=hits, thermalization_its=2, N_copies=10, bin_size=1, beta=beta, random_matrices=random_matrices, u0=u0, improved=False)\n",
    "print(result)"
   ]
  },
  {
   "cell_type": "code",
   "execution_count": 6,
   "metadata": {},
   "outputs": [
    {
     "name": "stdout",
     "output_type": "stream",
     "text": [
      "[0.49690474 0.25975208]\n",
      "[0.00089133 0.00109062]\n"
     ]
    }
   ],
   "source": [
    "value"
   ]
  },
  {
   "cell_type": "code",
   "execution_count": 7,
   "metadata": {},
   "outputs": [
    {
     "ename": "NameError",
     "evalue": "name 'error' is not defined",
     "output_type": "error",
     "traceback": [
      "\u001b[1;31m---------------------------------------------------------------------------\u001b[0m",
      "\u001b[1;31mNameError\u001b[0m                                 Traceback (most recent call last)",
      "Cell \u001b[1;32mIn[7], line 1\u001b[0m\n\u001b[1;32m----> 1\u001b[0m error\n",
      "\u001b[1;31mNameError\u001b[0m: name 'error' is not defined"
     ]
    }
   ],
   "source": [
    "error"
   ]
  },
  {
   "cell_type": "code",
   "execution_count": 12,
   "metadata": {},
   "outputs": [
    {
     "name": "stderr",
     "output_type": "stream",
     "text": [
      "c:\\Users\\feder\\OneDrive\\Desktop\\Finelli\\repository\\lattice-qcd-for-novices\\src\\lqfn\\gauge_qft\\lattice_qcd.py:297: NumbaPerformanceWarning: \u001b[1m\u001b[1m\u001b[1m\u001b[1m\u001b[1m\u001b[1m\u001b[1m'@' is faster on contiguous arrays, called on (Array(complex128, 2, 'C', False, aligned=True), Array(complex128, 2, 'A', False, aligned=True))\u001b[0m\u001b[0m\u001b[0m\u001b[0m\u001b[0m\u001b[0m\u001b[0m\n",
      "  wilson_samples = generate_wilson_samples(links, x, steps, N_cf, N_cor, hits, thermalization_its, bin_size, beta, random_matrices, u0, improved)\n"
     ]
    },
    {
     "name": "stdout",
     "output_type": "stream",
     "text": [
      "0/2 thermalization iteration\n",
      "1/2 thermalization iteration\n",
      "0/10\n",
      "0.5402779400593637\n",
      "0.2829074727775945\n",
      "1/10\n",
      "0.5429946555485329\n",
      "0.2881991814562738\n",
      "2/10\n",
      "0.5405065628106147\n",
      "0.2812554472517536\n",
      "3/10\n"
     ]
    }
   ],
   "source": [
    "x = np.array([0,0,0,0], dtype=np.int32)\n",
    "loops = np.array([[+1,+2,-1,-2,0,0],[+1,+1,+2,-1,-1,-2]], dtype=np.int32)\n",
    "result = compute_path_integral_average(links, loops, N_cf=10, N_cor=N_cor, hits=hits, thermalization_its=2, N_copies=10, bin_size=1, beta=beta_improved, random_matrices=random_matrices, u0=u0, improved=True)\n",
    "print(result)"
   ]
  },
  {
   "cell_type": "code",
   "execution_count": 13,
   "metadata": {},
   "outputs": [
    {
     "name": "stdout",
     "output_type": "stream",
     "text": [
      "[0.53998933 0.28236919]\n",
      "[0.00061055 0.00056716]\n"
     ]
    }
   ],
   "source": [
    "value"
   ]
  },
  {
   "cell_type": "code",
   "execution_count": 14,
   "metadata": {},
   "outputs": [
    {
     "data": {
      "text/plain": [
       "0.04599043899861129"
      ]
     },
     "execution_count": 14,
     "metadata": {},
     "output_type": "execute_result"
    }
   ],
   "source": [
    "error"
   ]
  },
  {
   "cell_type": "code",
   "execution_count": null,
   "metadata": {},
   "outputs": [],
   "source": [
    "x = np.array([0,0,0,0], dtype=np.int32)\n",
    "steps = np.array([+1,+1,+2,-1,-1,-2], dtype=np.int32)\n",
    "value, error = compute_path_integral_average(links, x, steps, 5, 10, 10, 3, 1, 1, beta, random_matrices,u0, improved= True)"
   ]
  },
  {
   "cell_type": "code",
   "execution_count": null,
   "metadata": {},
   "outputs": [],
   "source": [
    "value"
   ]
  },
  {
   "cell_type": "code",
   "execution_count": null,
   "metadata": {},
   "outputs": [],
   "source": [
    "error"
   ]
  },
  {
   "cell_type": "markdown",
   "metadata": {},
   "source": [
    "---\n",
    "---"
   ]
  }
 ],
 "metadata": {
  "kernelspec": {
   "display_name": "lqfn",
   "language": "python",
   "name": "python3"
  },
  "language_info": {
   "codemirror_mode": {
    "name": "ipython",
    "version": 3
   },
   "file_extension": ".py",
   "mimetype": "text/x-python",
   "name": "python",
   "nbconvert_exporter": "python",
   "pygments_lexer": "ipython3",
   "version": "3.11.9"
  }
 },
 "nbformat": 4,
 "nbformat_minor": 2
}
