{
 "cells": [
  {
   "cell_type": "code",
   "execution_count": 1,
   "metadata": {},
   "outputs": [],
   "source": [
    "import numpy as np\n",
    "from lqfn.gauge_qft.lattice_qcd import *"
   ]
  },
  {
   "cell_type": "code",
   "execution_count": 2,
   "metadata": {},
   "outputs": [],
   "source": [
    "d = 4\n",
    "N = 8\n",
    "eps = 0.24\n",
    "beta = 5.5\n",
    "u0= 0.797\n",
    "N_cor = 50\n",
    "hits = 10"
   ]
  },
  {
   "cell_type": "code",
   "execution_count": 3,
   "metadata": {},
   "outputs": [],
   "source": [
    "random_matrices = generate_update_matrices_set(200, eps)"
   ]
  },
  {
   "cell_type": "markdown",
   "metadata": {},
   "source": [
    "---\n",
    "---"
   ]
  },
  {
   "cell_type": "code",
   "execution_count": 4,
   "metadata": {},
   "outputs": [],
   "source": [
    "links = create_lattice_links(N, d)"
   ]
  },
  {
   "cell_type": "code",
   "execution_count": 5,
   "metadata": {},
   "outputs": [
    {
     "name": "stderr",
     "output_type": "stream",
     "text": [
      "c:\\Users\\damia\\Projects\\path-integral-monte-carlo\\src\\lqfn\\gauge_qft\\lattice_qcd.py:556: NumbaPerformanceWarning: \u001b[1m\u001b[1m\u001b[1m\u001b[1m\u001b[1m\u001b[1m\u001b[1m'@' is faster on contiguous arrays, called on (Array(complex128, 2, 'C', False, aligned=True), Array(complex128, 2, 'A', False, aligned=True))\u001b[0m\u001b[0m\u001b[0m\u001b[0m\u001b[0m\u001b[0m\u001b[0m\n",
      "  wilson_samples = generate_wilson_samples(\n"
     ]
    },
    {
     "name": "stdout",
     "output_type": "stream",
     "text": [
      "0/2 thermalization iteration\n",
      "1/2 thermalization iteration\n",
      "0/10\n",
      "1/10\n",
      "2/10\n",
      "3/10\n",
      "4/10\n",
      "5/10\n",
      "6/10\n",
      "7/10\n",
      "8/10\n",
      "9/10\n",
      "[[0.49760397 0.26015919]\n",
      " [0.49944266 0.26289228]\n",
      " [0.49751367 0.26048495]\n",
      " [0.49641388 0.2595273 ]\n",
      " [0.4968111  0.25960833]\n",
      " [0.49764743 0.26074228]\n",
      " [0.49936339 0.2629555 ]\n",
      " [0.49910552 0.2622274 ]\n",
      " [0.49788639 0.2607106 ]\n",
      " [0.49674278 0.2593023 ]]\n"
     ]
    }
   ],
   "source": [
    "loops = np.array([[+1,+2,-1,-2,0,0], [+1,+1,+2,-1,-1,-2]], dtype=np.int32)\n",
    "result = compute_path_integral_average(links, loops, N_cf=10, N_cor=N_cor, hits=hits, thermalization_its=2, N_copies=10, bin_size=1, beta=beta, random_matrices=random_matrices, u0=u0, improved=False)\n",
    "print(result)"
   ]
  },
  {
   "cell_type": "code",
   "execution_count": 6,
   "metadata": {},
   "outputs": [
    {
     "name": "stdout",
     "output_type": "stream",
     "text": [
      "[0.49785308 0.26086101]\n",
      "[0.00104818 0.00129724]\n"
     ]
    }
   ],
   "source": [
    "print(result.mean(axis=0))\n",
    "print(result.std(axis=0))"
   ]
  },
  {
   "cell_type": "markdown",
   "metadata": {},
   "source": [
    "---\n",
    "---"
   ]
  },
  {
   "cell_type": "code",
   "execution_count": 4,
   "metadata": {},
   "outputs": [],
   "source": [
    "beta_improved = 1.719 "
   ]
  },
  {
   "cell_type": "code",
   "execution_count": 5,
   "metadata": {},
   "outputs": [],
   "source": [
    "links = create_lattice_links(N, d)"
   ]
  },
  {
   "cell_type": "code",
   "execution_count": 6,
   "metadata": {},
   "outputs": [
    {
     "name": "stderr",
     "output_type": "stream",
     "text": [
      "c:\\Users\\damia\\Projects\\path-integral-monte-carlo\\src\\lqfn\\gauge_qft\\lattice_qcd.py:556: NumbaPerformanceWarning: \u001b[1m\u001b[1m\u001b[1m\u001b[1m\u001b[1m\u001b[1m\u001b[1m'@' is faster on contiguous arrays, called on (Array(complex128, 2, 'C', False, aligned=True), Array(complex128, 2, 'A', False, aligned=True))\u001b[0m\u001b[0m\u001b[0m\u001b[0m\u001b[0m\u001b[0m\u001b[0m\n",
      "  wilson_samples = generate_wilson_samples(\n"
     ]
    },
    {
     "name": "stdout",
     "output_type": "stream",
     "text": [
      "0/2 thermalization iteration\n",
      "1/2 thermalization iteration\n",
      "0/10\n",
      "1/10\n",
      "2/10\n",
      "3/10\n",
      "4/10\n",
      "5/10\n",
      "6/10\n",
      "7/10\n",
      "8/10\n",
      "9/10\n",
      "[[0.5412415  0.28320879]\n",
      " [0.5408253  0.28247997]\n",
      " [0.5421409  0.2840474 ]\n",
      " [0.54064521 0.28246277]\n",
      " [0.54237328 0.28429129]\n",
      " [0.54122637 0.28346303]\n",
      " [0.54102821 0.28283946]\n",
      " [0.54158904 0.28368209]\n",
      " [0.54096094 0.28295271]\n",
      " [0.54096094 0.28295271]]\n"
     ]
    }
   ],
   "source": [
    "x = np.array([0,0,0,0], dtype=np.int32)\n",
    "loops = np.array([[+1,+2,-1,-2,0,0],[+1,+1,+2,-1,-1,-2]], dtype=np.int32)\n",
    "result = compute_path_integral_average(links, loops, N_cf=10, N_cor=N_cor, hits=hits, thermalization_its=2, N_copies=10, bin_size=1, beta=beta_improved, random_matrices=random_matrices, u0=u0, improved=True)\n",
    "print(result)"
   ]
  },
  {
   "cell_type": "code",
   "execution_count": 7,
   "metadata": {},
   "outputs": [
    {
     "name": "stdout",
     "output_type": "stream",
     "text": [
      "[0.54129917 0.28323802]\n",
      "[0.00053938 0.00059249]\n"
     ]
    }
   ],
   "source": [
    "print(result.mean(axis=0))\n",
    "print(result.std(axis=0))"
   ]
  },
  {
   "cell_type": "markdown",
   "metadata": {},
   "source": [
    "---\n",
    "---"
   ]
  }
 ],
 "metadata": {
  "kernelspec": {
   "display_name": "lqfn",
   "language": "python",
   "name": "python3"
  },
  "language_info": {
   "codemirror_mode": {
    "name": "ipython",
    "version": 3
   },
   "file_extension": ".py",
   "mimetype": "text/x-python",
   "name": "python",
   "nbconvert_exporter": "python",
   "pygments_lexer": "ipython3",
   "version": "3.11.9"
  }
 },
 "nbformat": 4,
 "nbformat_minor": 2
}
