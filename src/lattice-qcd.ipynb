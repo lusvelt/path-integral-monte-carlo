{
 "cells": [
  {
   "cell_type": "code",
   "execution_count": 1,
   "metadata": {},
   "outputs": [],
   "source": [
    "import numpy as np\n",
    "from lqfn.gauge_qft.lattice_qcd import *"
   ]
  },
  {
   "cell_type": "code",
   "execution_count": 2,
   "metadata": {},
   "outputs": [],
   "source": [
    "d = 4\n",
    "N = 8\n",
    "eps = 0.24\n",
    "beta = 5.5\n",
    "u0= 0.797\n",
    "N_cor = 50\n",
    "hits = 10"
   ]
  },
  {
   "cell_type": "code",
   "execution_count": 3,
   "metadata": {},
   "outputs": [],
   "source": [
    "random_matrices = generate_update_matrices_set(200, eps)"
   ]
  },
  {
   "cell_type": "markdown",
   "metadata": {},
   "source": [
    "---\n",
    "---"
   ]
  },
  {
   "cell_type": "code",
   "execution_count": 4,
   "metadata": {},
   "outputs": [],
   "source": [
    "links = create_lattice_links(N, d)"
   ]
  },
  {
   "cell_type": "code",
   "execution_count": 5,
   "metadata": {},
   "outputs": [
    {
     "name": "stderr",
     "output_type": "stream",
     "text": [
      "c:\\Users\\damia\\Projects\\path-integral-monte-carlo\\src\\lqfn\\gauge_qft\\lattice_qcd.py:304: NumbaPerformanceWarning: \u001b[1m\u001b[1m\u001b[1m\u001b[1m\u001b[1m\u001b[1m\u001b[1m'@' is faster on contiguous arrays, called on (Array(complex128, 2, 'C', False, aligned=True), Array(complex128, 2, 'A', False, aligned=True))\u001b[0m\u001b[0m\u001b[0m\u001b[0m\u001b[0m\u001b[0m\u001b[0m\n",
      "  wilson_samples = generate_wilson_samples(links, x, steps, N_cf, N_cor, hits, thermalization_its, bin_size, beta, random_matrices, u0, improved)\n"
     ]
    },
    {
     "name": "stdout",
     "output_type": "stream",
     "text": [
      "0/2 thermalization iteration\n",
      "1/2 thermalization iteration\n",
      "0/10\n",
      "0.5016318032423265\n",
      "0.2647001521561631\n",
      "1/10\n",
      "0.50242023952007\n",
      "0.2652801587343811\n",
      "2/10\n",
      "0.4976471424044477\n",
      "0.26468345991960995\n",
      "3/10\n",
      "0.4965784350635242\n",
      "0.2620046007292203\n",
      "4/10\n",
      "0.49257288117166204\n",
      "0.2592979618100816\n",
      "5/10\n",
      "0.4953125193971844\n",
      "0.25679683494627237\n",
      "6/10\n",
      "0.5051537273589681\n",
      "0.26566151916476555\n",
      "7/10\n",
      "0.4925958778758331\n",
      "0.2526582812190847\n",
      "8/10\n",
      "0.4888101032960125\n",
      "0.25418399617979576\n",
      "9/10\n",
      "0.49400887737349575\n",
      "0.251199516108884\n",
      "[[0.49606112 0.25901056]\n",
      " [0.49756019 0.26199186]\n",
      " [0.49844427 0.26201019]\n",
      " [0.49730701 0.2609503 ]\n",
      " [0.49554574 0.25614662]\n",
      " [0.49712992 0.26067464]\n",
      " [0.49844801 0.26273778]\n",
      " [0.49626015 0.26021298]\n",
      " [0.49443264 0.2577481 ]\n",
      " [0.49687925 0.25910286]]\n"
     ]
    }
   ],
   "source": [
    "x = np.array([0,0,0,0], dtype=np.int32)\n",
    "loops = np.array([[+1,+2,-1,-2,0,0], [+1,+1,+2,-1,-1,-2]], dtype=np.int32)\n",
    "result = compute_path_integral_average(links, x, loops, N_cf=10, N_cor=N_cor, hits=hits, thermalization_its=2, N_copies=10, bin_size=1, beta=beta, random_matrices=random_matrices, u0=u0, improved=False)\n",
    "print(result)"
   ]
  },
  {
   "cell_type": "code",
   "execution_count": 6,
   "metadata": {},
   "outputs": [
    {
     "name": "stdout",
     "output_type": "stream",
     "text": [
      "[0.49680683 0.26005859]\n",
      "[0.00119934 0.00196409]\n"
     ]
    }
   ],
   "source": [
    "print(result.mean(axis=0))\n",
    "print(result.std(axis=0))"
   ]
  },
  {
   "cell_type": "markdown",
   "metadata": {},
   "source": [
    "---\n",
    "---"
   ]
  },
  {
   "cell_type": "code",
   "execution_count": 7,
   "metadata": {},
   "outputs": [],
   "source": [
    "beta_improved = 1.719 "
   ]
  },
  {
   "cell_type": "code",
   "execution_count": 8,
   "metadata": {},
   "outputs": [],
   "source": [
    "links = create_lattice_links(N, d)"
   ]
  },
  {
   "cell_type": "code",
   "execution_count": 9,
   "metadata": {},
   "outputs": [
    {
     "name": "stdout",
     "output_type": "stream",
     "text": [
      "0/2 thermalization iteration\n",
      "1/2 thermalization iteration\n",
      "0/10\n",
      "0.5429563586806068\n",
      "0.28995327647269165\n",
      "1/10\n",
      "0.5402013563022963\n",
      "0.284274769065711\n",
      "2/10\n",
      "0.5396750073144484\n",
      "0.28306662426191714\n",
      "3/10\n",
      "0.5424923534049167\n",
      "0.28755406638077735\n",
      "4/10\n",
      "0.5400957975654463\n",
      "0.2815229738058651\n",
      "5/10\n",
      "0.5356627890411736\n",
      "0.2769955100262495\n",
      "6/10\n",
      "0.5391008826684698\n",
      "0.2790682027881604\n",
      "7/10\n",
      "0.5428854820889333\n",
      "0.28207398525579347\n",
      "8/10\n",
      "0.5439709683992702\n",
      "0.2870903564094915\n",
      "9/10\n",
      "0.5326607648179653\n",
      "0.27172346674667225\n",
      "[[0.5403714  0.28293943]\n",
      " [0.54017404 0.28238924]\n",
      " [0.53998073 0.2826075 ]\n",
      " [0.53809609 0.27944948]\n",
      " [0.53931168 0.28195068]\n",
      " [0.54033395 0.28263707]\n",
      " [0.54144927 0.28448894]\n",
      " [0.53851542 0.28100445]\n",
      " [0.54111209 0.28310859]\n",
      " [0.5410533  0.28361007]]\n"
     ]
    }
   ],
   "source": [
    "x = np.array([0,0,0,0], dtype=np.int32)\n",
    "loops = np.array([[+1,+2,-1,-2,0,0],[+1,+1,+2,-1,-1,-2]], dtype=np.int32)\n",
    "result = compute_path_integral_average(links, x, loops, N_cf=10, N_cor=N_cor, hits=hits, thermalization_its=2, N_copies=10, bin_size=1, beta=beta_improved, random_matrices=random_matrices, u0=u0, improved=True)\n",
    "print(result)"
   ]
  },
  {
   "cell_type": "code",
   "execution_count": 10,
   "metadata": {},
   "outputs": [
    {
     "name": "stdout",
     "output_type": "stream",
     "text": [
      "[0.5400398  0.28241855]\n",
      "[0.00104945 0.00132559]\n"
     ]
    }
   ],
   "source": [
    "print(result.mean(axis=0))\n",
    "print(result.std(axis=0))"
   ]
  }
 ],
 "metadata": {
  "kernelspec": {
   "display_name": "lqfn",
   "language": "python",
   "name": "python3"
  },
  "language_info": {
   "codemirror_mode": {
    "name": "ipython",
    "version": 3
   },
   "file_extension": ".py",
   "mimetype": "text/x-python",
   "name": "python",
   "nbconvert_exporter": "python",
   "pygments_lexer": "ipython3",
   "version": "3.11.9"
  }
 },
 "nbformat": 4,
 "nbformat_minor": 2
}
