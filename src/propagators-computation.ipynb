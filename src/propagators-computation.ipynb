{
 "cells": [
  {
   "cell_type": "code",
   "execution_count": 2,
   "metadata": {},
   "outputs": [],
   "source": [
    "import numpy as np\n",
    "import matplotlib.pyplot as plt\n",
    "from lqfn.plain_qm import SchrodingerSystem"
   ]
  },
  {
   "cell_type": "code",
   "execution_count": 3,
   "metadata": {},
   "outputs": [],
   "source": [
    "a = 1/2     # Lattice spacing\n",
    "N = 8       # Num of lattice points\n",
    "E_0 = 1/2   # Ground state energy"
   ]
  },
  {
   "cell_type": "code",
   "execution_count": 4,
   "metadata": {},
   "outputs": [],
   "source": [
    "T = N*a"
   ]
  },
  {
   "cell_type": "markdown",
   "metadata": {},
   "source": [
    "We are now going to compute the propagator as a function of (discretized) time, using path integrals, and compare the resulting points with the value that comes from the $T \\rightarrow \\infty$ limit of the analytical one"
   ]
  },
  {
   "cell_type": "code",
   "execution_count": 5,
   "metadata": {},
   "outputs": [],
   "source": [
    "x_exact = np.linspace(-2.0, 2.0, 100)       # Analytical T -> inf points\n",
    "x_pimc = np.linspace(-2.0, 2.0, 20)         # Path integral points"
   ]
  },
  {
   "cell_type": "markdown",
   "metadata": {},
   "source": [
    "# Harmonic oscillator"
   ]
  },
  {
   "cell_type": "code",
   "execution_count": 6,
   "metadata": {},
   "outputs": [],
   "source": [
    "def V_harmonic_oscillator(x: float):\n",
    "    return x**2 / 2\n",
    "\n",
    "# Ground state energy eigenfunction\n",
    "def psi_ground(x: float):\n",
    "    return np.exp(-x**2 / 2) / np.pi**(1/4)"
   ]
  },
  {
   "cell_type": "code",
   "execution_count": 7,
   "metadata": {},
   "outputs": [],
   "source": [
    "harmonic_oscillator = SchrodingerSystem(V=V_harmonic_oscillator, T=T, N=N)"
   ]
  },
  {
   "cell_type": "markdown",
   "metadata": {},
   "source": [
    "Compute propagator exploiting the analytical solution of ground state, in the limit $T \\rightarrow \\infty$"
   ]
  },
  {
   "cell_type": "code",
   "execution_count": 8,
   "metadata": {},
   "outputs": [],
   "source": [
    "propagators_exact = harmonic_oscillator.compute_propagator_from_ground_state(x_exact,\n",
    "                                                                             ground_energy=E_0,\n",
    "                                                                             ground_wavefunction=psi_ground)"
   ]
  },
  {
   "cell_type": "markdown",
   "metadata": {},
   "source": [
    "Now, compute it using path integration"
   ]
  },
  {
   "cell_type": "code",
   "execution_count": 9,
   "metadata": {},
   "outputs": [],
   "source": [
    "propagators_pimc_results = harmonic_oscillator.compute_propagator_pimc(x_pimc)\n",
    "propagators_pimc = np.array([ p.mean for p in propagators_pimc_results ])"
   ]
  },
  {
   "cell_type": "markdown",
   "metadata": {},
   "source": [
    "Now plot the propagator computed in the two ways"
   ]
  },
  {
   "cell_type": "code",
   "execution_count": 10,
   "metadata": {},
   "outputs": [
    {
     "data": {
      "image/png": "[encoded data removed]",
      "text/plain": [
       "<Figure size 640x480 with 1 Axes>"
      ]
     },
     "metadata": {},
     "output_type": "display_data"
    }
   ],
   "source": [
    "plt.scatter(x_exact, propagators_exact, s=2, color='blue', label='analytical  $T \\\\rightarrow \\\\infty$')\n",
    "plt.scatter(x_pimc, propagators_pimc, s=10, color='red', label='path integral')\n",
    "plt.xlabel('t')\n",
    "plt.ylabel('G(t)')\n",
    "plt.legend()\n",
    "plt.show()"
   ]
  },
  {
   "cell_type": "markdown",
   "metadata": {},
   "source": [
    "The error bars are not visible due to the error being very low"
   ]
  },
  {
   "cell_type": "markdown",
   "metadata": {},
   "source": [
    "If all Qs are greater than $0.01$, it means that all points are statistically significant. "
   ]
  },
  {
   "cell_type": "code",
   "execution_count": 25,
   "metadata": {},
   "outputs": [],
   "source": [
    "def check_reliability(results):\n",
    "    n_unreliable = 0\n",
    "    for result in propagators_pimc_results:\n",
    "        if result.Q < 0.01:\n",
    "            n_unreliable += 1\n",
    "\n",
    "    if n_unreliable == 0:\n",
    "        print('All points have a high statistical significance')\n",
    "    else:\n",
    "        print(f'{n_unreliable} out of {len(propagators_pimc_results)} points are statistically unreliable')"
   ]
  },
  {
   "cell_type": "code",
   "execution_count": 26,
   "metadata": {},
   "outputs": [
    {
     "name": "stdout",
     "output_type": "stream",
     "text": [
      "All points have a high statistical significance\n"
     ]
    }
   ],
   "source": [
    "check_reliability(propagators_pimc_results)"
   ]
  },
  {
   "cell_type": "markdown",
   "metadata": {},
   "source": [
    "# Potential $x^4/2$"
   ]
  },
  {
   "cell_type": "code",
   "execution_count": 15,
   "metadata": {},
   "outputs": [],
   "source": [
    "def V_x4(x: float):\n",
    "    return x ** 4 / 2"
   ]
  },
  {
   "cell_type": "code",
   "execution_count": 16,
   "metadata": {},
   "outputs": [],
   "source": [
    "x4_system = SchrodingerSystem(V=V_x4, T=4, N=8)"
   ]
  },
  {
   "cell_type": "markdown",
   "metadata": {},
   "source": [
    "Compute the propagator analytically in the limit $T \\rightarrow \\infty$"
   ]
  },
  {
   "cell_type": "code",
   "execution_count": 17,
   "metadata": {},
   "outputs": [
    {
     "name": "stdout",
     "output_type": "stream",
     "text": [
      "Computing...\n",
      "Took 0.0500340461730957\n"
     ]
    }
   ],
   "source": [
    "propagators_exact = x4_system.compute_propagator_from_ground_state(x_exact)\n",
    "propagators_pimc_results = x4_system.compute_propagator_pimc(x_pimc, lower_bound=-4, upper_bound=4, neval=10000)\n",
    "propagators_pimc = np.array([ p.mean for p in propagators_pimc_results ])"
   ]
  },
  {
   "cell_type": "markdown",
   "metadata": {},
   "source": [
    "Compute it using the path integration"
   ]
  },
  {
   "cell_type": "code",
   "execution_count": null,
   "metadata": {},
   "outputs": [],
   "source": [
    "propagators_pimc_results = x4_system.compute_propagator_pimc(x_pimc, lower_bound=-4, upper_bound=4, neval=10000)\n",
    "propagators_pimc = np.array([ p.mean for p in propagators_pimc_results ])"
   ]
  },
  {
   "cell_type": "code",
   "execution_count": 27,
   "metadata": {},
   "outputs": [
    {
     "name": "stdout",
     "output_type": "stream",
     "text": [
      "All points have a high statistical significance\n"
     ]
    }
   ],
   "source": [
    "check_reliability(propagators_pimc_results)"
   ]
  },
  {
   "cell_type": "markdown",
   "metadata": {},
   "source": [
    "Now plot the propagator computed in the two ways"
   ]
  },
  {
   "cell_type": "code",
   "execution_count": 22,
   "metadata": {},
   "outputs": [
    {
     "data": {
      "image/png": "[encoded data removed]",
      "text/plain": [
       "<Figure size 640x480 with 1 Axes>"
      ]
     },
     "metadata": {},
     "output_type": "display_data"
    }
   ],
   "source": [
    "plt.scatter(x_exact, propagators_exact, s=2, color='blue', label='analytical $T \\\\rightarrow \\\\infty$')\n",
    "plt.scatter(x_pimc, propagators_pimc, s=10, color='red', label='path integral')\n",
    "plt.xlabel('t')\n",
    "plt.ylabel('G(t)')\n",
    "plt.legend()\n",
    "plt.show()"
   ]
  },
  {
   "cell_type": "markdown",
   "metadata": {},
   "source": [
    "The points are shifted in the propagator computed via path integration because of renormalization effects."
   ]
  }
 ],
 "metadata": {
  "kernelspec": {
   "display_name": "numerical",
   "language": "python",
   "name": "python3"
  },
  "language_info": {
   "codemirror_mode": {
    "name": "ipython",
    "version": 3
   },
   "file_extension": ".py",
   "mimetype": "text/x-python",
   "name": "python",
   "nbconvert_exporter": "python",
   "pygments_lexer": "ipython3",
   "version": "3.11.9"
  }
 },
 "nbformat": 4,
 "nbformat_minor": 2
}
