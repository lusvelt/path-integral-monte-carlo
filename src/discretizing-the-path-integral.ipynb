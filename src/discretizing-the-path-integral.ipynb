{
 "cells": [
  {
   "cell_type": "markdown",
   "metadata": {},
   "source": [
    "Exercise in section 2.1"
   ]
  },
  {
   "cell_type": "code",
   "execution_count": 4,
   "metadata": {},
   "outputs": [],
   "source": [
    "import numpy as np\n",
    "import matplotlib.pyplot as plt\n",
    "from lqfn.quantum_systems import NonRelativisticSingleParticle1D"
   ]
  },
  {
   "cell_type": "code",
   "execution_count": 5,
   "metadata": {},
   "outputs": [],
   "source": [
    "a = 1/2\n",
    "N = 8\n",
    "E_0 = 1/2"
   ]
  },
  {
   "cell_type": "code",
   "execution_count": 3,
   "metadata": {},
   "outputs": [],
   "source": [
    "def V_harmonic_oscillator(x: float):\n",
    "    return x**2 / 2\n",
    "\n",
    "def psi_ground(x: float):\n",
    "    return np.exp(-x**2 / 2) / np.pi**(1/4)"
   ]
  },
  {
   "cell_type": "code",
   "execution_count": 4,
   "metadata": {},
   "outputs": [],
   "source": [
    "harmonic_oscillator = NonRelativisticSingleParticle1D(V=V_harmonic_oscillator, T=N*a, N=N)"
   ]
  },
  {
   "cell_type": "code",
   "execution_count": 9,
   "metadata": {},
   "outputs": [],
   "source": [
    "x_exact = np.linspace(0.0, 2.0, 50)\n",
    "x_pimc = np.linspace(0.0, 2.0, 10)\n",
    "\n",
    "propagators_exact = harmonic_oscillator.compute_propagator_from_ground_state(x_exact, ground_energy=E_0, ground_wavefunction=psi_ground)\n",
    "propagators_pimc_results = harmonic_oscillator.compute_propagator_pimc(x_pimc)\n",
    "propagators_pimc = np.array([ p.mean for p in propagators_pimc_results ])"
   ]
  },
  {
   "cell_type": "code",
   "execution_count": 10,
   "metadata": {},
   "outputs": [
    {
     "data": {
      "image/png": "[encoded data removed]",
      "text/plain": [
       "<Figure size 640x480 with 1 Axes>"
      ]
     },
     "metadata": {},
     "output_type": "display_data"
    }
   ],
   "source": [
    "plt.scatter(x_exact, propagators_exact, s=2, color='blue')\n",
    "plt.scatter(x_pimc, propagators_pimc, s=10, color='red')\n",
    "plt.show()"
   ]
  },
  {
   "cell_type": "code",
   "execution_count": 12,
   "metadata": {},
   "outputs": [
    {
     "name": "stdout",
     "output_type": "stream",
     "text": [
      "0.6558724583472266\n",
      "0.21347211137812386\n",
      "0.6003885711847878\n",
      "0.8583287452691102\n",
      "0.1478312164304999\n",
      "0.5494848998530497\n",
      "0.1099814427511693\n",
      "0.5035949004627933\n",
      "0.7437112847464594\n",
      "0.15863245032036558\n"
     ]
    }
   ],
   "source": [
    "for result in propagators_pimc_results:\n",
    "    print(result.Q)"
   ]
  },
  {
   "cell_type": "markdown",
   "metadata": {},
   "source": [
    "If all Qs are greater than $0.05$, it means that all points are statistically significant. "
   ]
  },
  {
   "cell_type": "markdown",
   "metadata": {},
   "source": [
    "TODO:\n",
    "- Refactor (generalize code)\n",
    "- Output the goodness of the integration procedures\n",
    "- Compare quantitatively Monte Carlo vs exact\n",
    "- Prove that A is good also for x^4 / 2"
   ]
  },
  {
   "cell_type": "markdown",
   "metadata": {},
   "source": [
    "# Potential $x^4/2$"
   ]
  },
  {
   "cell_type": "code",
   "execution_count": null,
   "metadata": {},
   "outputs": [],
   "source": [
    "# TODO: rewrite using factored code"
   ]
  },
  {
   "cell_type": "code",
   "execution_count": 1,
   "metadata": {},
   "outputs": [],
   "source": [
    "from lqfn.numerical.schrodinger.numerov import get_eigenvalues, get_eigenfunction"
   ]
  },
  {
   "cell_type": "code",
   "execution_count": 2,
   "metadata": {},
   "outputs": [],
   "source": [
    "def V_x4(x: float):\n",
    "    return x ** 4 / 2"
   ]
  },
  {
   "cell_type": "code",
   "execution_count": 7,
   "metadata": {},
   "outputs": [],
   "source": [
    "x4_system = NonRelativisticSingleParticle1D(V=V_x4, T=N*a, N=N)"
   ]
  },
  {
   "cell_type": "code",
   "execution_count": 8,
   "metadata": {},
   "outputs": [],
   "source": [
    "x_exact = np.linspace(0.0, 2.0, 50)\n",
    "x_pimc = np.linspace(0.0, 2.0, 10)"
   ]
  },
  {
   "cell_type": "code",
   "execution_count": 21,
   "metadata": {},
   "outputs": [],
   "source": [
    "# propagators_exact = x4_system.compute_propagator_from_ground_state(x_exact)\n",
    "propagators_pimc_results = x4_system.compute_propagator_pimc(x_pimc)\n",
    "propagators_pimc = np.array([ p.mean for p in propagators_pimc_results ])"
   ]
  },
  {
   "cell_type": "code",
   "execution_count": 6,
   "metadata": {},
   "outputs": [
    {
     "ename": "NameError",
     "evalue": "name 'propagators_pimc_results' is not defined",
     "output_type": "error",
     "traceback": [
      "\u001b[1;31m---------------------------------------------------------------------------\u001b[0m",
      "\u001b[1;31mNameError\u001b[0m                                 Traceback (most recent call last)",
      "Cell \u001b[1;32mIn[6], line 1\u001b[0m\n\u001b[1;32m----> 1\u001b[0m \u001b[38;5;28;01mfor\u001b[39;00m result \u001b[38;5;129;01min\u001b[39;00m \u001b[43mpropagators_pimc_results\u001b[49m:\n\u001b[0;32m      2\u001b[0m     \u001b[38;5;28mprint\u001b[39m(result\u001b[38;5;241m.\u001b[39mQ)\n",
      "\u001b[1;31mNameError\u001b[0m: name 'propagators_pimc_results' is not defined"
     ]
    }
   ],
   "source": [
    "for result in propagators_pimc_results:\n",
    "    print(result.Q)"
   ]
  },
  {
   "cell_type": "markdown",
   "metadata": {},
   "source": [
    "Compute using Schrodinger equation solution using Numerov"
   ]
  },
  {
   "cell_type": "code",
   "execution_count": 9,
   "metadata": {},
   "outputs": [],
   "source": [
    "dx = 2.0/x_exact.shape[0]\n",
    "energies = get_eigenvalues(V_x4(x_exact), x_exact, dx, 0.0, 5.0)\n",
    "ground_wavefunction = get_eigenfunction(V_x4(x_exact), x_exact, dx, energies[0])"
   ]
  },
  {
   "cell_type": "code",
   "execution_count": null,
   "metadata": {},
   "outputs": [],
   "source": [
    "def compute_propagator_4(x, E_0):\n",
    "    index = int((x - LOWER_BOUND) // dx)\n",
    "    return eigenfunctions[0][index]**2 * np.exp(-E_0*T)"
   ]
  },
  {
   "cell_type": "code",
   "execution_count": 14,
   "metadata": {},
   "outputs": [
    {
     "data": {
      "text/plain": [
       "array([0.        , 0.04081633, 0.08163265, 0.12244898, 0.16326531,\n",
       "       0.20408163, 0.24489796, 0.28571429, 0.32653061, 0.36734694,\n",
       "       0.40816327, 0.44897959, 0.48979592, 0.53061224, 0.57142857,\n",
       "       0.6122449 , 0.65306122, 0.69387755, 0.73469388, 0.7755102 ,\n",
       "       0.81632653, 0.85714286, 0.89795918, 0.93877551, 0.97959184,\n",
       "       1.02040816, 1.06122449, 1.10204082, 1.14285714, 1.18367347,\n",
       "       1.2244898 , 1.26530612, 1.30612245, 1.34693878, 1.3877551 ,\n",
       "       1.42857143, 1.46938776, 1.51020408, 1.55102041, 1.59183673,\n",
       "       1.63265306, 1.67346939, 1.71428571, 1.75510204, 1.79591837,\n",
       "       1.83673469, 1.87755102, 1.91836735, 1.95918367, 2.        ])"
      ]
     },
     "execution_count": 14,
     "metadata": {},
     "output_type": "execute_result"
    }
   ],
   "source": [
    "x_exact"
   ]
  },
  {
   "cell_type": "code",
   "execution_count": 15,
   "metadata": {},
   "outputs": [
    {
     "data": {
      "image/png": "[encoded data removed]",
      "text/plain": [
       "<Figure size 1200x800 with 1 Axes>"
      ]
     },
     "metadata": {},
     "output_type": "display_data"
    }
   ],
   "source": [
    "# Plot the potential and the first few eigenfunctions\n",
    "plt.figure(figsize=(12, 8))\n",
    "# plt.plot(X, V, label='Potential V(x) = x^4 / 2')\n",
    "vals = np.array([ground_wavefunction(x) for x in x_exact])\n",
    "plt.plot(x_exact, vals, label=f'Wavefunction ground (E={energies[0]:.2f})')\n",
    "\n",
    "\n",
    "plt.xlabel('x')\n",
    "plt.ylabel('Energy / Wavefunction')\n",
    "plt.legend()\n",
    "plt.show()"
   ]
  },
  {
   "cell_type": "code",
   "execution_count": null,
   "metadata": {},
   "outputs": [],
   "source": [
    "theoretical_predictions = []\n",
    "for x in x_exact:\n",
    "    theoretical_predictions.append(compute_propagator_4(x, eigenvalues[0]))\n",
    "theoretical_predictions = np.array(theoretical_predictions)"
   ]
  },
  {
   "cell_type": "code",
   "execution_count": null,
   "metadata": {},
   "outputs": [
    {
     "data": {
      "text/plain": [
       "array([7.73111155e-02, 7.30085252e-02, 6.42857039e-02, 4.87824973e-02,\n",
       "       3.08246832e-02, 1.65981539e-02, 6.51765157e-03, 1.75998927e-03,\n",
       "       2.85511098e-04, 2.64690977e-05])"
      ]
     },
     "execution_count": 158,
     "metadata": {},
     "output_type": "execute_result"
    }
   ],
   "source": [
    "means"
   ]
  },
  {
   "cell_type": "code",
   "execution_count": null,
   "metadata": {},
   "outputs": [
    {
     "data": {
      "image/png": "[encoded data removed]",
      "text/plain": [
       "<Figure size 640x480 with 1 Axes>"
      ]
     },
     "metadata": {},
     "output_type": "display_data"
    }
   ],
   "source": [
    "plt.scatter(x_PI, means, s=10, color='red')\n",
    "plt.scatter(x_exact, theoretical_predictions, s=2, color='blue')\n",
    "plt.show()"
   ]
  },
  {
   "cell_type": "code",
   "execution_count": null,
   "metadata": {},
   "outputs": [
    {
     "name": "stdout",
     "output_type": "stream",
     "text": [
      "itn   integral        wgt average     chi2/dof        Q\n",
      "-------------------------------------------------------\n",
      "  1   0.0818(75)      0.0818(75)          0.00     1.00\n",
      "  2   0.0728(97)      0.0784(60)          0.54     0.46\n",
      "  3   0.0930(94)      0.0826(50)          1.12     0.33\n",
      "  4   0.0804(55)      0.0816(37)          0.78     0.51\n",
      "  5   0.0756(46)      0.0793(29)          0.84     0.50\n",
      "  6   0.0719(40)      0.0768(24)          1.11     0.35\n",
      "  7   0.0762(51)      0.0767(21)          0.93     0.47\n",
      "  8   0.0716(44)      0.0757(19)          0.95     0.47\n",
      "  9   0.0804(59)      0.0761(18)          0.90     0.51\n",
      " 10   0.090(11)       0.0765(18)          0.96     0.47\n",
      " 11   0.0863(90)      0.0769(18)          0.98     0.46\n",
      " 12   0.0858(63)      0.0775(17)          1.06     0.39\n",
      " 13   0.0753(43)      0.0772(16)          0.99     0.46\n",
      " 14   0.0784(47)      0.0773(15)          0.92     0.53\n",
      " 15   0.0723(45)      0.0769(14)          0.93     0.52\n",
      " 16   0.0837(46)      0.0775(14)          1.01     0.45\n",
      " 17   0.0721(40)      0.0769(13)          1.04     0.41\n",
      " 18   0.0813(57)      0.0771(13)          1.02     0.44\n",
      " 19   0.0823(77)      0.0773(12)          0.98     0.48\n",
      " 20   0.081(10)       0.0773(12)          0.94     0.53\n",
      "\n",
      "\n",
      "\n",
      "\n",
      "itn   integral        wgt average     chi2/dof        Q\n",
      "-------------------------------------------------------\n",
      "  1   0.0728(61)      0.0728(61)          0.00     1.00\n",
      "  2   0.0752(68)      0.0739(45)          0.07     0.79\n",
      "  3   0.080(11)       0.0748(42)          0.16     0.86\n",
      "  4   0.0754(53)      0.0750(33)          0.11     0.96\n",
      "  5   0.0763(55)      0.0753(28)          0.09     0.99\n",
      "  6   0.0728(51)      0.0747(25)          0.11     0.99\n",
      "  7   0.0748(41)      0.0747(21)          0.09     1.00\n",
      "  8   0.0697(43)      0.0737(19)          0.24     0.98\n",
      "  9   0.0735(46)      0.0737(18)          0.21     0.99\n",
      " 10   0.0675(37)      0.0726(16)          0.44     0.91\n",
      " 11   0.0819(78)      0.0730(16)          0.54     0.87\n",
      " 12   0.0719(50)      0.0729(15)          0.49     0.91\n",
      " 13   0.0775(45)      0.0733(14)          0.53     0.90\n",
      " 14   0.0733(41)      0.0733(13)          0.49     0.93\n",
      " 15   0.0707(51)      0.0731(13)          0.47     0.95\n",
      " 16   0.0759(44)      0.0734(12)          0.46     0.96\n",
      " 17   0.0693(34)      0.0729(12)          0.51     0.94\n",
      " 18   0.0777(40)      0.0733(11)          0.56     0.92\n",
      " 19   0.0678(34)      0.0727(11)          0.66     0.85\n",
      " 20   0.0795(53)      0.0730(10)          0.71     0.82\n",
      "\n",
      "\n",
      "\n",
      "\n",
      "itn   integral        wgt average     chi2/dof        Q\n",
      "-------------------------------------------------------\n",
      "  1   0.079(11)       0.079(11)           0.00     1.00\n",
      "  2   0.0705(68)      0.0727(58)          0.41     0.52\n",
      "  3   0.0634(46)      0.0670(36)          1.00     0.37\n",
      "  4   0.0617(32)      0.0640(24)          1.06     0.36\n",
      "  5   0.0674(45)      0.0648(21)          0.91     0.46\n",
      "  6   0.0723(79)      0.0653(20)          0.89     0.48\n",
      "  7   0.0539(36)      0.0626(18)          1.99     0.06\n",
      "  8   0.0605(38)      0.0622(16)          1.74     0.09\n",
      "  9   0.0603(31)      0.0618(14)          1.56     0.13\n",
      " 10   0.0706(57)      0.0623(14)          1.64     0.10\n",
      " 11   0.0665(82)      0.0624(14)          1.50     0.13\n",
      " 12   0.0673(40)      0.0629(13)          1.48     0.13\n",
      " 13   0.0618(34)      0.0628(12)          1.37     0.17\n",
      " 14   0.0712(71)      0.0630(12)          1.37     0.17\n",
      " 15   0.0668(47)      0.0633(12)          1.31     0.19\n",
      " 16   0.0614(39)      0.0631(11)          1.24     0.23\n",
      " 17   0.0682(49)      0.0634(11)          1.22     0.24\n",
      " 18   0.0706(71)      0.0635(11)          1.21     0.24\n",
      " 19   0.0704(45)      0.0639(10)          1.27     0.20\n",
      " 20   0.0725(48)      0.0643(10)          1.36     0.13\n",
      "\n",
      "\n",
      "\n",
      "\n",
      "itn   integral        wgt average     chi2/dof        Q\n",
      "-------------------------------------------------------\n",
      "  1   0.0481(36)      0.0481(36)          0.00     1.00\n",
      "  2   0.0521(37)      0.0500(26)          0.61     0.43\n",
      "  3   0.0511(35)      0.0504(21)          0.34     0.71\n",
      "  4   0.0547(38)      0.0514(18)          0.55     0.65\n",
      "  5   0.0522(31)      0.0516(16)          0.42     0.79\n",
      "  6   0.0571(59)      0.0520(15)          0.50     0.77\n",
      "  7   0.0491(30)      0.0514(14)          0.54     0.78\n",
      "  8   0.0472(22)      0.0502(12)          0.82     0.57\n",
      "  9   0.0445(22)      0.0490(10)          1.37     0.21\n",
      " 10   0.0602(56)      0.0494(10)          1.64     0.10\n",
      " 11   0.0461(23)      0.04886(93)         1.64     0.09\n",
      " 12   0.0512(30)      0.04907(89)         1.55     0.11\n",
      " 13   0.0477(34)      0.04899(86)         1.43     0.14\n",
      " 14   0.0477(29)      0.04888(82)         1.33     0.18\n",
      " 15   0.0479(28)      0.04880(79)         1.25     0.23\n",
      " 16   0.0489(25)      0.04881(75)         1.16     0.29\n",
      " 17   0.0545(40)      0.04900(74)         1.21     0.25\n",
      " 18   0.0468(25)      0.04883(71)         1.18     0.27\n",
      " 19   0.0477(27)      0.04875(68)         1.13     0.32\n",
      " 20   0.059(13)       0.04878(68)         1.10     0.34\n",
      "\n",
      "\n",
      "\n",
      "\n",
      "itn   integral        wgt average     chi2/dof        Q\n",
      "-------------------------------------------------------\n",
      "  1   0.0269(34)      0.0269(34)          0.00     1.00\n",
      "  2   0.0286(23)      0.0280(19)          0.16     0.69\n",
      "  3   0.0280(19)      0.0280(13)          0.08     0.92\n",
      "  4   0.0320(27)      0.0288(12)          0.64     0.59\n",
      "  5   0.0317(27)      0.0293(11)          0.72     0.58\n",
      "  6   0.0354(25)      0.0303(10)          1.59     0.16\n",
      "  7   0.0309(17)      0.03043(86)         1.35     0.23\n",
      "  8   0.0289(18)      0.03014(77)         1.24     0.28\n",
      "  9   0.0328(17)      0.03061(70)         1.34     0.22\n",
      " 10   0.0300(14)      0.03049(63)         1.21     0.28\n",
      " 11   0.0319(17)      0.03066(59)         1.15     0.32\n",
      " 12   0.0332(34)      0.03073(58)         1.09     0.36\n",
      " 13   0.0305(19)      0.03071(56)         1.00     0.44\n",
      " 14   0.0326(20)      0.03085(54)         0.99     0.45\n",
      " 15   0.0331(20)      0.03100(52)         1.01     0.44\n",
      " 16   0.0331(20)      0.03114(50)         1.02     0.44\n",
      " 17   0.0340(19)      0.03132(48)         1.08     0.37\n",
      " 18   0.0297(15)      0.03116(46)         1.08     0.37\n",
      " 19   0.0285(14)      0.03090(44)         1.20     0.25\n",
      " 20   0.0298(16)      0.03082(42)         1.16     0.28\n",
      "\n",
      "\n",
      "\n",
      "\n",
      "itn   integral        wgt average     chi2/dof        Q\n",
      "-------------------------------------------------------\n",
      "  1   0.0196(48)      0.0196(48)          0.00     1.00\n",
      "  2   0.0167(17)      0.0170(16)          0.32     0.57\n",
      "  3   0.0150(13)      0.01574(99)         0.67     0.51\n",
      "  4   0.0177(13)      0.01642(80)         0.89     0.45\n",
      "  5   0.01534(92)     0.01595(60)         0.86     0.49\n",
      "  6   0.0168(10)      0.01617(52)         0.79     0.56\n",
      "  7   0.01570(85)     0.01604(44)         0.69     0.65\n",
      "  8   0.0170(11)      0.01618(41)         0.69     0.68\n",
      "  9   0.0167(10)      0.01625(38)         0.63     0.76\n",
      " 10   0.0173(11)      0.01636(36)         0.65     0.76\n",
      " 11   0.0183(23)      0.01641(36)         0.66     0.77\n",
      " 12   0.0200(43)      0.01643(35)         0.66     0.78\n",
      " 13   0.0162(10)      0.01641(33)         0.61     0.84\n",
      " 14   0.01611(91)     0.01637(31)         0.57     0.88\n",
      " 15   0.01601(76)     0.01632(29)         0.54     0.91\n",
      " 16   0.0179(13)      0.01639(28)         0.60     0.88\n",
      " 17   0.0171(14)      0.01642(28)         0.57     0.91\n",
      " 18   0.0171(10)      0.01647(27)         0.57     0.92\n",
      " 19   0.0171(12)      0.01650(26)         0.55     0.93\n",
      " 20   0.0183(11)      0.01660(25)         0.66     0.86\n",
      "\n",
      "\n",
      "\n",
      "\n",
      "itn   integral        wgt average     chi2/dof        Q\n",
      "-------------------------------------------------------\n",
      "  1   0.00742(77)     0.00742(77)         0.00     1.00\n",
      "  2   0.00631(57)     0.00670(46)         1.35     0.24\n",
      "  3   0.00722(59)     0.00690(36)         0.91     0.40\n",
      "  4   0.00678(41)     0.00685(27)         0.62     0.60\n",
      "  5   0.00683(50)     0.00684(24)         0.47     0.76\n",
      "  6   0.00678(38)     0.00682(20)         0.38     0.86\n",
      "  7   0.00643(45)     0.00676(18)         0.42     0.86\n",
      "  8   0.00770(85)     0.00680(18)         0.53     0.81\n",
      "  9   0.00676(71)     0.00680(17)         0.46     0.88\n",
      " 10   0.00640(52)     0.00676(17)         0.47     0.89\n",
      " 11   0.00656(37)     0.00672(15)         0.45     0.92\n",
      " 12   0.00669(48)     0.00672(14)         0.41     0.95\n",
      " 13   0.00633(40)     0.00667(14)         0.45     0.94\n",
      " 14   0.00601(28)     0.00655(12)         0.76     0.71\n",
      " 15   0.00751(81)     0.00657(12)         0.80     0.67\n",
      " 16   0.00726(74)     0.00659(12)         0.80     0.68\n",
      " 17   0.00609(33)     0.00653(11)         0.87     0.60\n",
      " 18   0.00672(41)     0.00655(11)         0.83     0.65\n",
      " 19   0.00676(38)     0.00656(10)         0.80     0.70\n",
      " 20   0.00615(30)     0.006518(98)        0.85     0.64\n",
      "\n",
      "\n",
      "\n",
      "\n",
      "itn   integral        wgt average     chi2/dof        Q\n",
      "-------------------------------------------------------\n",
      "  1   0.00179(16)     0.00179(16)         0.00     1.00\n",
      "  2   0.00174(16)     0.00177(11)         0.05     0.83\n",
      "  3   0.00198(16)     0.001836(93)        0.61     0.54\n",
      "  4   0.00182(12)     0.001832(74)        0.41     0.75\n",
      "  5   0.001640(90)    0.001754(57)        0.99     0.41\n",
      "  6   0.001669(93)    0.001731(49)        0.91     0.47\n",
      "  7   0.00197(16)     0.001751(47)        1.10     0.36\n",
      "  8   0.00189(12)     0.001770(43)        1.13     0.34\n",
      "  9   0.00201(19)     0.001783(42)        1.18     0.31\n",
      " 10   0.00191(11)     0.001799(39)        1.19     0.30\n",
      " 11   0.00203(21)     0.001807(39)        1.18     0.30\n",
      " 12   0.00166(15)     0.001797(37)        1.16     0.31\n",
      " 13   0.00182(10)     0.001800(35)        1.06     0.39\n",
      " 14   0.00188(12)     0.001806(34)        1.01     0.44\n",
      " 15   0.001771(84)    0.001801(31)        0.95     0.51\n",
      " 16   0.00182(11)     0.001802(30)        0.89     0.58\n",
      " 17   0.00185(12)     0.001805(29)        0.84     0.64\n",
      " 18   0.001575(69)    0.001770(27)        1.35     0.15\n",
      " 19   0.001675(84)    0.001761(26)        1.34     0.15\n",
      " 20   0.001748(85)    0.001760(25)        1.27     0.19\n",
      "\n",
      "\n",
      "\n",
      "\n",
      "itn   integral        wgt average     chi2/dof        Q\n",
      "-------------------------------------------------------\n",
      "  1   0.000343(33)    0.000343(33)        0.00     1.00\n",
      "  2   0.000289(25)    0.000309(20)        1.79     0.18\n",
      "  3   0.000309(22)    0.000309(15)        0.89     0.41\n",
      "  4   0.000300(19)    0.000305(12)        0.64     0.59\n",
      "  5   0.000311(15)    0.0003073(92)       0.50     0.74\n",
      "  6   0.000279(13)    0.0002982(76)       1.00     0.41\n",
      "  7   0.000282(12)    0.0002937(64)       1.05     0.39\n",
      "  8   0.000249(12)    0.0002840(57)       2.39     0.02\n",
      "  9   0.000287(14)    0.0002844(53)       2.10     0.03\n",
      " 10   0.000281(13)    0.0002839(49)       1.87     0.05\n",
      " 11   0.000310(16)    0.0002861(47)       1.92     0.04\n",
      " 12   0.000299(14)    0.0002874(45)       1.81     0.05\n",
      " 13   0.000313(29)    0.0002880(44)       1.72     0.06\n",
      " 14   0.000287(13)    0.0002879(42)       1.59     0.08\n",
      " 15   0.000279(14)    0.0002872(40)       1.50     0.10\n",
      " 16   0.000281(14)    0.0002867(39)       1.41     0.13\n",
      " 17   0.000292(23)    0.0002869(38)       1.33     0.17\n",
      " 18   0.000286(13)    0.0002868(37)       1.25     0.22\n",
      " 19   0.000290(15)    0.0002870(35)       1.18     0.27\n",
      " 20   0.000264(14)    0.0002855(34)       1.26     0.20\n",
      "\n",
      "\n",
      "\n",
      "\n",
      "itn   integral        wgt average     chi2/dof        Q\n",
      "-------------------------------------------------------\n",
      "  1   2.21(17)e-05    2.21(17)e-05        0.00     1.00\n",
      "  2   2.44(18)e-05    2.31(12)e-05        0.92     0.34\n",
      "  3   2.81(19)e-05    2.46(10)e-05        2.97     0.05\n",
      "  4   2.75(19)e-05    2.528(89)e-05       2.60     0.05\n",
      "  5   3.01(17)e-05    2.635(79)e-05       3.56     0.01\n",
      "  6   2.77(17)e-05    2.658(72)e-05       2.95     0.01\n",
      "  7   2.54(12)e-05    2.627(62)e-05       2.57     0.02\n",
      "  8   2.98(27)e-05    2.644(60)e-05       2.44     0.02\n",
      "  9   2.60(12)e-05    2.636(54)e-05       2.15     0.03\n",
      " 10   2.61(12)e-05    2.632(49)e-05       1.91     0.05\n",
      " 11   2.68(16)e-05    2.636(47)e-05       1.73     0.07\n",
      " 12   2.76(13)e-05    2.650(44)e-05       1.64     0.08\n",
      " 13   2.72(12)e-05    2.658(41)e-05       1.53     0.11\n",
      " 14   2.69(11)e-05    2.662(39)e-05       1.42     0.14\n",
      " 15   2.38(10)e-05    2.624(36)e-05       1.82     0.03\n",
      " 16   3.24(37)e-05    2.630(36)e-05       1.88     0.02\n",
      " 17   2.92(16)e-05    2.644(35)e-05       1.96     0.01\n",
      " 18   2.57(13)e-05    2.639(34)e-05       1.86     0.02\n",
      " 19   2.75(14)e-05    2.646(33)e-05       1.79     0.02\n",
      " 20   2.66(11)e-05    2.647(32)e-05       1.70     0.03\n",
      "\n",
      "\n",
      "\n",
      "\n"
     ]
    }
   ],
   "source": [
    "for i in range(len(results)):\n",
    "    print(results[i].summary())\n",
    "    print()\n",
    "    print()\n",
    "    print()"
   ]
  },
  {
   "cell_type": "markdown",
   "metadata": {},
   "source": []
  }
 ],
 "metadata": {
  "kernelspec": {
   "display_name": "numerical",
   "language": "python",
   "name": "python3"
  },
  "language_info": {
   "codemirror_mode": {
    "name": "ipython",
    "version": 3
   },
   "file_extension": ".py",
   "mimetype": "text/x-python",
   "name": "python",
   "nbconvert_exporter": "python",
   "pygments_lexer": "ipython3",
   "version": "3.11.9"
  }
 },
 "nbformat": 4,
 "nbformat_minor": 2
}
