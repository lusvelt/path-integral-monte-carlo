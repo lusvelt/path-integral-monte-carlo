{
 "cells": [
  {
   "cell_type": "markdown",
   "metadata": {},
   "source": [
    "From (22) to (23):\n",
    "$$\\int dx \\bra{x}e^{-\\hat{H}(t_f - t_2)}\\hat{x}e^{-\\hat{H}(t_2 - t_1)}\\hat{x}e^{-\\hat{H}(t_1 - t_i)}\\ket{x}$$ \n",
    "$$ = \\sum_{n,m} \\int dx \\braket{E_m|x}\\braket{x|E_n}\\bra{E_n}e^{-\\hat{H}(t_f - t_2)}\\hat{x}e^{-\\hat{H}(t_2 - t_1)}\\hat{x}e^{-\\hat{H}(t_1 - t_i)}\\ket{E_m}$$\n",
    "$$ = \\sum_{n,m} \\braket{E_m|E_n}\\bra{E_n}e^{-\\hat{H}(t_f - t_2)}\\hat{x}e^{-\\hat{H}(t_2 - t_1)}\\hat{x}e^{-\\hat{H}(t_1 - t_i)}\\ket{E_m}$$\n",
    "$$ = \\sum_{n}\\bra{E_n}e^{-\\hat{H}(t_f - t_2)}\\hat{x}e^{-\\hat{H}(t_2 - t_1)}\\hat{x}e^{-\\hat{H}(t_1 - t_i)}\\ket{E_n}$$\n",
    "$$ = \\sum_{n}e^{-E_n(t_f - t_2)}\\bra{E_n}\\hat{x}e^{-\\hat{H}(t_2 - t_1)}\\hat{x}\\ket{E_n}e^{-E_n(t_1 - t_i)}$$\n",
    "$$ = \\sum_{n}e^{-E_n(t_f - t_i)}e^{-E_n(t_1 - t_2)}\\bra{E_n}\\hat{x}e^{-\\hat{H}(t_2 - t_1)}\\hat{x}\\ket{E_n}$$\n",
    "$$ = \\sum_{n}e^{-E_n T}\\bra{E_n}\\hat{x}e^{-(\\hat{H} - E_n)t}\\hat{x}\\ket{E_n}$$"
   ]
  },
  {
   "cell_type": "markdown",
   "metadata": {},
   "source": [
    "From (24) to (25):\n",
    "$$\\bra{E_0}\\hat{x}e^{-(\\hat{H}-E_0)t}\\hat{x}\\ket{E_0}$$\n",
    "$$=\\sum_{n,m} \\bra{E_0}\\hat{x}\\ket{E_n}\\bra{E_n}e^{-(\\hat{H}-E_0)t}\\ket{E_m}\\bra{E_m}\\hat{x}\\ket{E_0}$$\n",
    "$$\\rightarrow \\bra{E_0}\\hat{x}\\ket{E_1}e^{-(E_1-E_0)t}\\bra{E_1}\\hat{x}\\ket{E_0}$$\n",
    "$$= |\\bra{E_0}\\hat{x}\\ket{E_1}|^2 e^{-(E_1-E_0)t}$$\n",
    "where we used t large and $\\bra{E_0}\\hat{x}\\ket{E_0} = 0$"
   ]
  },
  {
   "cell_type": "markdown",
   "metadata": {},
   "source": [
    "From (25) to (26):\n",
    "$$\\log(G(t)/G(t+a)) = \\log\\left(\\frac{|\\bra{E_0}\\hat{x}\\ket{E_1}|^2 e^{-(E_1-E_0)t}}{|\\bra{E_0}\\hat{x}\\ket{E_1}|^2 e^{-(E_1-E_0)(t+a)}}\\right)$$\n",
    "$$=\\log(e^{(E_1 - E_0) a}) = (E_1 - E_0) a$$"
   ]
  },
  {
   "cell_type": "markdown",
   "metadata": {},
   "source": [
    "Figure 2, pag. 8\n",
    "$$S_{x_j} = a \\frac{x_j^2}{2} + \\frac{(x_{j+1} - x_j)^2}{2a} + \\frac{(x_{j} - x_{j-1})^2}{2a}$$\n",
    "$$= a \\frac{x_j^2}{2} + \\frac{x_{j+1}^2 + x_j^2 - 2 x_{j+1}x_j + x_j^2 + x_{j-1}^2 - 2 x_j x_{j-1}}{2a}$$\n",
    "$$= a \\frac{x_j^2}{2} + \\frac{ 2x_j^2 - 2 x_{j+1}x_j - 2 x_j x_{j-1}}{2a} + O(x_{j-1}^2) + O(x_{j+1}^2)$$\n",
    "$$= a \\frac{x_j^2}{2} + x_j\\frac{ x_j - x_{j+1} - x_{j-1}}{a} + O(x_{j-1}^2) + O(x_{j+1}^2)$$"
   ]
  },
  {
   "cell_type": "markdown",
   "metadata": {},
   "source": []
  },
  {
   "cell_type": "code",
   "execution_count": null,
   "metadata": {},
   "outputs": [],
   "source": []
  }
 ],
 "metadata": {
  "language_info": {
   "name": "python"
  }
 },
 "nbformat": 4,
 "nbformat_minor": 2
}
